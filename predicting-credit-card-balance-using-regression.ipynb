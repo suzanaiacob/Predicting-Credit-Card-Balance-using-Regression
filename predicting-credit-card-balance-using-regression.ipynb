{
 "cells": [
  {
   "cell_type": "markdown",
   "metadata": {
    "_cell_guid": "f46dc631-46db-4f3b-9f4b-a97fe8e90489",
    "_uuid": "70a9a07e11837c5631e1754efec62ce2d479af40"
   },
   "source": [
    "> ## Project Goal\n",
    "\n",
    "The goal of this exercise is to analyze a dataset consisting of information from 400 credit card holders and to comprehend which factors influence the Credit Card Balance of a cardholder and to predict the average Balance of a given individual. Such an exercise could be conducted as part of a customer analysis within a credit card company. The results of the analysis could determine which customers present a risk of credit default, or what the expected consumer behavior of prospective customers will be. In addition, combining the credit Balance data with information such as credit Limit can assist in calculating the credit utilization of a card, information which feeds into a cardholder's credit Rating.   \n",
    "\n",
    "For this goal, a multivariable regression analysis will be undertaken. The exercise will begin with an exploratory data analysis of the dataset, followed by feature selection and regression analysis, including linear and logistic regression. Lastly, the regression model created will be employed to simulate a new dataset and predict the credit Balance of cardholders given their demographic information. "
   ]
  },
  {
   "cell_type": "markdown",
   "metadata": {
    "_cell_guid": "9238b0cc-c910-469b-9146-a99542f4ae51",
    "_uuid": "6ff3251e34ac9a83d0ea7453e7aafea26baebed4"
   },
   "source": [
    "> ## Dataset Description\n",
    "\n",
    "This dataset is part of \"An Introduction to Statistical Learning with Applications in R\" available at http://www-bcf.usc.edu/~gareth/ISL/index.html \n",
    "\n",
    "The present exercise will study the Credit Card Balance Data. This is a data frame with 400 observations on the following variables:\n",
    "* ID - Identification\n",
    "* Income - Income in \\$10,0000\n",
    "* Limit - Credit limit\n",
    "* Rating - Credit rating\n",
    "* Age - Age in years\n",
    "* Education - number of years of education\n",
    "* Gender - Male or Female\n",
    "* Student - Yes or No\n",
    "* Married - Yes or No\n",
    "* Ethnicity - African American, Asian or Caucasian\n",
    "* Balance - Average credit card balance in $\n",
    "\n",
    "The aim is to determine which factors influence the credit card Balance of any given individual.\n"
   ]
  },
  {
   "cell_type": "markdown",
   "metadata": {
    "_cell_guid": "0e390a4f-3599-4ea3-9019-1fc8cfa09e27",
    "_uuid": "fff2f3853c2daf2218192dbe9d96408ea1f4f71a"
   },
   "source": [
    "> ## Assumptions\n",
    "\n",
    "The following assumptions about the dataset have been made:\n",
    "* Credit card Balance refers to the average monthly balance across all of the cards owned by a cardholder. This assumption was made as a result of the Cards variable which refers to the number of credit cards owned by a person and has only one associated Balance figure.\n",
    "* The Balance is calculated as the highest amount incurred on a credit card in a given month. For example if a cardholder spends \\$400, \\$500, and \\$600 over the course of three months, and each month pays the balance in full, the average balance will be recorded as \\$500 (i.e. any preliminary balances before the maximum are not taken into account, neither is the final balance of zero)."
   ]
  },
  {
   "cell_type": "markdown",
   "metadata": {
    "_cell_guid": "a43e31e6-f56e-4cdb-9baa-cd55d67562d6",
    "_uuid": "415daa659f7d4f84ce5830455cde2efb876568d5"
   },
   "source": [
    "> ## Project set-up"
   ]
  },
  {
   "cell_type": "code",
   "execution_count": 1,
   "metadata": {
    "_cell_guid": "3c170739-fa9c-f03b-8d5f-6d19acd40f54",
    "_uuid": "027ee68a24219a183bbfe15850259cf3b061572c",
    "scrolled": true
   },
   "outputs": [],
   "source": [
    "import numpy as np\n",
    "import pandas as pd \n",
    "import seaborn as sns\n",
    "import matplotlib.pyplot as plt\n",
    "import statsmodels.api as sm\n",
    "import statsmodels.formula.api as smf\n",
    "%matplotlib inline\n",
    "\n",
    "col_list = ['#005f9a', '#00CDCD', '#f1bdbf']\n",
    "sns.set_palette(col_list)\n"
   ]
  },
  {
   "cell_type": "code",
   "execution_count": 2,
   "metadata": {
    "_cell_guid": "aae3e270-c228-240c-7941-4104d2b5b0b0",
    "_uuid": "6133db5b215fafa5a8da6bfdb35120505f69c68c"
   },
   "outputs": [],
   "source": [
    "credit_df = pd.read_csv(\"../input/Credit.csv\", index_col=0)"
   ]
  },
  {
   "cell_type": "markdown",
   "metadata": {
    "_cell_guid": "f700c922-666a-4dde-87ed-c44f2dd29f4d",
    "_uuid": "41a1928328e8979733d7d62a2822b28a38ad4727"
   },
   "source": [
    "The categorical variables should be converted into the appropriate data type. "
   ]
  },
  {
   "cell_type": "code",
   "execution_count": 3,
   "metadata": {
    "_cell_guid": "7f8ad995-84cb-464f-8493-7804bcec37f0",
    "_uuid": "2883aeda1c6456169617e3a029485e8c5d607dc3"
   },
   "outputs": [],
   "source": [
    "credit_df.Gender = credit_df.Gender.astype('category')\n",
    "credit_df.Student = credit_df.Student.astype('category')\n",
    "credit_df.Married = credit_df.Married.astype('category')\n",
    "credit_df.Ethnicity = credit_df.Ethnicity.astype('category')"
   ]
  },
  {
   "cell_type": "markdown",
   "metadata": {
    "_cell_guid": "76fee392-ed16-4cc8-ba32-78b2effe8c99",
    "_uuid": "ce020de10c112782b0cc7306b0ad87ef8eb49abe"
   },
   "source": [
    "> # Exploratory Data Analysis"
   ]
  },
  {
   "cell_type": "code",
   "execution_count": 4,
   "metadata": {
    "_cell_guid": "2a308548-4d29-7192-cec0-2e229aeb317e",
    "_uuid": "4e51cc26c3882f99125e071022b7825be4757072",
    "scrolled": true
   },
   "outputs": [
    {
     "data": {
      "text/html": [
       "<div>\n",
       "<style scoped>\n",
       "    .dataframe tbody tr th:only-of-type {\n",
       "        vertical-align: middle;\n",
       "    }\n",
       "\n",
       "    .dataframe tbody tr th {\n",
       "        vertical-align: top;\n",
       "    }\n",
       "\n",
       "    .dataframe thead th {\n",
       "        text-align: right;\n",
       "    }\n",
       "</style>\n",
       "<table border=\"1\" class=\"dataframe\">\n",
       "  <thead>\n",
       "    <tr style=\"text-align: right;\">\n",
       "      <th></th>\n",
       "      <th>Income</th>\n",
       "      <th>Limit</th>\n",
       "      <th>Rating</th>\n",
       "      <th>Cards</th>\n",
       "      <th>Age</th>\n",
       "      <th>Education</th>\n",
       "      <th>Balance</th>\n",
       "    </tr>\n",
       "  </thead>\n",
       "  <tbody>\n",
       "    <tr>\n",
       "      <th>count</th>\n",
       "      <td>400.000000</td>\n",
       "      <td>400.000000</td>\n",
       "      <td>400.000000</td>\n",
       "      <td>400.000000</td>\n",
       "      <td>400.000000</td>\n",
       "      <td>400.000000</td>\n",
       "      <td>400.000000</td>\n",
       "    </tr>\n",
       "    <tr>\n",
       "      <th>mean</th>\n",
       "      <td>45.218885</td>\n",
       "      <td>4735.600000</td>\n",
       "      <td>354.940000</td>\n",
       "      <td>2.957500</td>\n",
       "      <td>55.667500</td>\n",
       "      <td>13.450000</td>\n",
       "      <td>520.015000</td>\n",
       "    </tr>\n",
       "    <tr>\n",
       "      <th>std</th>\n",
       "      <td>35.244273</td>\n",
       "      <td>2308.198848</td>\n",
       "      <td>154.724143</td>\n",
       "      <td>1.371275</td>\n",
       "      <td>17.249807</td>\n",
       "      <td>3.125207</td>\n",
       "      <td>459.758877</td>\n",
       "    </tr>\n",
       "    <tr>\n",
       "      <th>min</th>\n",
       "      <td>10.354000</td>\n",
       "      <td>855.000000</td>\n",
       "      <td>93.000000</td>\n",
       "      <td>1.000000</td>\n",
       "      <td>23.000000</td>\n",
       "      <td>5.000000</td>\n",
       "      <td>0.000000</td>\n",
       "    </tr>\n",
       "    <tr>\n",
       "      <th>25%</th>\n",
       "      <td>21.007250</td>\n",
       "      <td>3088.000000</td>\n",
       "      <td>247.250000</td>\n",
       "      <td>2.000000</td>\n",
       "      <td>41.750000</td>\n",
       "      <td>11.000000</td>\n",
       "      <td>68.750000</td>\n",
       "    </tr>\n",
       "    <tr>\n",
       "      <th>50%</th>\n",
       "      <td>33.115500</td>\n",
       "      <td>4622.500000</td>\n",
       "      <td>344.000000</td>\n",
       "      <td>3.000000</td>\n",
       "      <td>56.000000</td>\n",
       "      <td>14.000000</td>\n",
       "      <td>459.500000</td>\n",
       "    </tr>\n",
       "    <tr>\n",
       "      <th>75%</th>\n",
       "      <td>57.470750</td>\n",
       "      <td>5872.750000</td>\n",
       "      <td>437.250000</td>\n",
       "      <td>4.000000</td>\n",
       "      <td>70.000000</td>\n",
       "      <td>16.000000</td>\n",
       "      <td>863.000000</td>\n",
       "    </tr>\n",
       "    <tr>\n",
       "      <th>max</th>\n",
       "      <td>186.634000</td>\n",
       "      <td>13913.000000</td>\n",
       "      <td>982.000000</td>\n",
       "      <td>9.000000</td>\n",
       "      <td>98.000000</td>\n",
       "      <td>20.000000</td>\n",
       "      <td>1999.000000</td>\n",
       "    </tr>\n",
       "  </tbody>\n",
       "</table>\n",
       "</div>"
      ],
      "text/plain": [
       "           Income         Limit     ...        Education      Balance\n",
       "count  400.000000    400.000000     ...       400.000000   400.000000\n",
       "mean    45.218885   4735.600000     ...        13.450000   520.015000\n",
       "std     35.244273   2308.198848     ...         3.125207   459.758877\n",
       "min     10.354000    855.000000     ...         5.000000     0.000000\n",
       "25%     21.007250   3088.000000     ...        11.000000    68.750000\n",
       "50%     33.115500   4622.500000     ...        14.000000   459.500000\n",
       "75%     57.470750   5872.750000     ...        16.000000   863.000000\n",
       "max    186.634000  13913.000000     ...        20.000000  1999.000000\n",
       "\n",
       "[8 rows x 7 columns]"
      ]
     },
     "execution_count": 4,
     "metadata": {},
     "output_type": "execute_result"
    }
   ],
   "source": [
    "credit_df.describe()"
   ]
  },
  {
   "cell_type": "code",
   "execution_count": 5,
   "metadata": {
    "_cell_guid": "8d00a318-230b-aa86-0c22-ac0e0e368ed6",
    "_uuid": "bf92cecd8193916af0555e3b471a627c38acfa07"
   },
   "outputs": [
    {
     "data": {
      "text/html": [
       "<div>\n",
       "<style scoped>\n",
       "    .dataframe tbody tr th:only-of-type {\n",
       "        vertical-align: middle;\n",
       "    }\n",
       "\n",
       "    .dataframe tbody tr th {\n",
       "        vertical-align: top;\n",
       "    }\n",
       "\n",
       "    .dataframe thead th {\n",
       "        text-align: right;\n",
       "    }\n",
       "</style>\n",
       "<table border=\"1\" class=\"dataframe\">\n",
       "  <thead>\n",
       "    <tr style=\"text-align: right;\">\n",
       "      <th></th>\n",
       "      <th>Income</th>\n",
       "      <th>Limit</th>\n",
       "      <th>Rating</th>\n",
       "      <th>Cards</th>\n",
       "      <th>Age</th>\n",
       "      <th>Education</th>\n",
       "      <th>Gender</th>\n",
       "      <th>Student</th>\n",
       "      <th>Married</th>\n",
       "      <th>Ethnicity</th>\n",
       "      <th>Balance</th>\n",
       "    </tr>\n",
       "  </thead>\n",
       "  <tbody>\n",
       "    <tr>\n",
       "      <th>1</th>\n",
       "      <td>14.891</td>\n",
       "      <td>3606</td>\n",
       "      <td>283</td>\n",
       "      <td>2</td>\n",
       "      <td>34</td>\n",
       "      <td>11</td>\n",
       "      <td>Male</td>\n",
       "      <td>No</td>\n",
       "      <td>Yes</td>\n",
       "      <td>Caucasian</td>\n",
       "      <td>333</td>\n",
       "    </tr>\n",
       "    <tr>\n",
       "      <th>2</th>\n",
       "      <td>106.025</td>\n",
       "      <td>6645</td>\n",
       "      <td>483</td>\n",
       "      <td>3</td>\n",
       "      <td>82</td>\n",
       "      <td>15</td>\n",
       "      <td>Female</td>\n",
       "      <td>Yes</td>\n",
       "      <td>Yes</td>\n",
       "      <td>Asian</td>\n",
       "      <td>903</td>\n",
       "    </tr>\n",
       "    <tr>\n",
       "      <th>3</th>\n",
       "      <td>104.593</td>\n",
       "      <td>7075</td>\n",
       "      <td>514</td>\n",
       "      <td>4</td>\n",
       "      <td>71</td>\n",
       "      <td>11</td>\n",
       "      <td>Male</td>\n",
       "      <td>No</td>\n",
       "      <td>No</td>\n",
       "      <td>Asian</td>\n",
       "      <td>580</td>\n",
       "    </tr>\n",
       "    <tr>\n",
       "      <th>4</th>\n",
       "      <td>148.924</td>\n",
       "      <td>9504</td>\n",
       "      <td>681</td>\n",
       "      <td>3</td>\n",
       "      <td>36</td>\n",
       "      <td>11</td>\n",
       "      <td>Female</td>\n",
       "      <td>No</td>\n",
       "      <td>No</td>\n",
       "      <td>Asian</td>\n",
       "      <td>964</td>\n",
       "    </tr>\n",
       "    <tr>\n",
       "      <th>5</th>\n",
       "      <td>55.882</td>\n",
       "      <td>4897</td>\n",
       "      <td>357</td>\n",
       "      <td>2</td>\n",
       "      <td>68</td>\n",
       "      <td>16</td>\n",
       "      <td>Male</td>\n",
       "      <td>No</td>\n",
       "      <td>Yes</td>\n",
       "      <td>Caucasian</td>\n",
       "      <td>331</td>\n",
       "    </tr>\n",
       "  </tbody>\n",
       "</table>\n",
       "</div>"
      ],
      "text/plain": [
       "    Income  Limit  Rating  Cards   ...    Student  Married  Ethnicity Balance\n",
       "1   14.891   3606     283      2   ...         No      Yes  Caucasian     333\n",
       "2  106.025   6645     483      3   ...        Yes      Yes      Asian     903\n",
       "3  104.593   7075     514      4   ...         No       No      Asian     580\n",
       "4  148.924   9504     681      3   ...         No       No      Asian     964\n",
       "5   55.882   4897     357      2   ...         No      Yes  Caucasian     331\n",
       "\n",
       "[5 rows x 11 columns]"
      ]
     },
     "execution_count": 5,
     "metadata": {},
     "output_type": "execute_result"
    }
   ],
   "source": [
    "credit_df.head()"
   ]
  },
  {
   "cell_type": "code",
   "execution_count": 6,
   "metadata": {
    "_cell_guid": "660de2bd-4889-42fd-bb8a-574ca8b1cdcf",
    "_uuid": "aef545f2fc1c1c824edb405cbcfe56e61e1d278b"
   },
   "outputs": [
    {
     "data": {
      "text/html": [
       "<div>\n",
       "<style scoped>\n",
       "    .dataframe tbody tr th:only-of-type {\n",
       "        vertical-align: middle;\n",
       "    }\n",
       "\n",
       "    .dataframe tbody tr th {\n",
       "        vertical-align: top;\n",
       "    }\n",
       "\n",
       "    .dataframe thead th {\n",
       "        text-align: right;\n",
       "    }\n",
       "</style>\n",
       "<table border=\"1\" class=\"dataframe\">\n",
       "  <thead>\n",
       "    <tr style=\"text-align: right;\">\n",
       "      <th></th>\n",
       "      <th>Gender</th>\n",
       "      <th>Student</th>\n",
       "      <th>Married</th>\n",
       "      <th>Ethnicity</th>\n",
       "    </tr>\n",
       "  </thead>\n",
       "  <tbody>\n",
       "    <tr>\n",
       "      <th>count</th>\n",
       "      <td>400</td>\n",
       "      <td>400</td>\n",
       "      <td>400</td>\n",
       "      <td>400</td>\n",
       "    </tr>\n",
       "    <tr>\n",
       "      <th>unique</th>\n",
       "      <td>2</td>\n",
       "      <td>2</td>\n",
       "      <td>2</td>\n",
       "      <td>3</td>\n",
       "    </tr>\n",
       "    <tr>\n",
       "      <th>top</th>\n",
       "      <td>Female</td>\n",
       "      <td>No</td>\n",
       "      <td>Yes</td>\n",
       "      <td>Caucasian</td>\n",
       "    </tr>\n",
       "    <tr>\n",
       "      <th>freq</th>\n",
       "      <td>207</td>\n",
       "      <td>360</td>\n",
       "      <td>245</td>\n",
       "      <td>199</td>\n",
       "    </tr>\n",
       "  </tbody>\n",
       "</table>\n",
       "</div>"
      ],
      "text/plain": [
       "        Gender Student Married  Ethnicity\n",
       "count      400     400     400        400\n",
       "unique       2       2       2          3\n",
       "top     Female      No     Yes  Caucasian\n",
       "freq       207     360     245        199"
      ]
     },
     "execution_count": 6,
     "metadata": {},
     "output_type": "execute_result"
    }
   ],
   "source": [
    "credit_df.describe(include=['category'])"
   ]
  },
  {
   "cell_type": "markdown",
   "metadata": {
    "_cell_guid": "f8194fee-2bdd-4ac2-aaea-fb4994aaeec2",
    "_uuid": "6480e8e9a1be4d486203ba1be06988542ad24927"
   },
   "source": [
    "> ## Describing the target of inference"
   ]
  },
  {
   "cell_type": "markdown",
   "metadata": {
    "_cell_guid": "fdb0214d-3e00-2411-d483-f42af97e4c32",
    "_uuid": "9d8a8a3796f678e307500294fd38bfa6e4c1b5a5"
   },
   "source": [
    "One of the first steps of this Exploratory Data Analysis is to examine the target of inference ( Balance ) in isolation."
   ]
  },
  {
   "cell_type": "code",
   "execution_count": 7,
   "metadata": {
    "_cell_guid": "d5bd74ae-648c-802d-4052-db84ab81b2ce",
    "_uuid": "ff1848dda9201957ca87fbd41c9eea2d64917342"
   },
   "outputs": [
    {
     "name": "stderr",
     "output_type": "stream",
     "text": [
      "/opt/conda/lib/python3.6/site-packages/scipy/stats/stats.py:1713: FutureWarning: Using a non-tuple sequence for multidimensional indexing is deprecated; use `arr[tuple(seq)]` instead of `arr[seq]`. In the future this will be interpreted as an array index, `arr[np.array(seq)]`, which will result either in an error or a different result.\n",
      "  return np.add.reduce(sorted[indexer] * weights, axis=axis) / sumval\n"
     ]
    },
    {
     "data": {
      "text/plain": [
       "<matplotlib.axes._subplots.AxesSubplot at 0x7fdc05f55be0>"
      ]
     },
     "execution_count": 7,
     "metadata": {},
     "output_type": "execute_result"
    },
    {
     "data": {
      "image/png": "[encoded data removed]",
      "text/plain": [
       "<Figure size 432x288 with 1 Axes>"
      ]
     },
     "metadata": {},
     "output_type": "display_data"
    }
   ],
   "source": [
    "sns.distplot(credit_df.Balance)"
   ]
  },
  {
   "cell_type": "markdown",
   "metadata": {
    "_cell_guid": "7894e779-921e-accd-52e5-c40e033277a3",
    "_uuid": "72f4291ce49c25dac3cf3915ae1536b756b626e5"
   },
   "source": [
    "It can be noticed that a large portion of the sample consists of Zero Balance Cards. Therefore there are 2 potential questions that can be answered:\n",
    "* Does an individual have a positive average credit card Balance? \n",
    "* If yes, what is the magnitude of the average Balance?\n",
    "\n",
    "This is an important distinction because, if the average credit card Balance for a given individual is zero, we conclude that the person does not make use of that credit card. As a credit card company, we may be interested in knowing the average balance across our frequent users (for instance, to identify those at risk of default), and the zero Balances may skew our results. \n",
    "\n",
    "We can create an additional data frame which only contains the observations with a positive Balance. "
   ]
  },
  {
   "cell_type": "code",
   "execution_count": 8,
   "metadata": {
    "_cell_guid": "87bf4401-d7b7-43ac-8a63-b3b716d8ef24",
    "_uuid": "bdacd45a1d58d6b85821d252d2b70a5bcbad9242"
   },
   "outputs": [
    {
     "data": {
      "text/plain": [
       "count     310.000000\n",
       "mean      670.987097\n",
       "std       413.904019\n",
       "min         5.000000\n",
       "25%       338.000000\n",
       "50%       637.500000\n",
       "75%       960.750000\n",
       "max      1999.000000\n",
       "Name: Balance, dtype: float64"
      ]
     },
     "execution_count": 8,
     "metadata": {},
     "output_type": "execute_result"
    }
   ],
   "source": [
    "active_credit_df = credit_df.loc[credit_df.Balance>0,].copy()\n",
    "active_credit_df.Balance.describe() "
   ]
  },
  {
   "cell_type": "code",
   "execution_count": 9,
   "metadata": {
    "_cell_guid": "c3d08e9a-1e92-4081-b26d-db7b5fca3758",
    "_uuid": "7be6f4c1cde729426962e8852fa432e724d668fe"
   },
   "outputs": [
    {
     "name": "stderr",
     "output_type": "stream",
     "text": [
      "/opt/conda/lib/python3.6/site-packages/scipy/stats/stats.py:1713: FutureWarning: Using a non-tuple sequence for multidimensional indexing is deprecated; use `arr[tuple(seq)]` instead of `arr[seq]`. In the future this will be interpreted as an array index, `arr[np.array(seq)]`, which will result either in an error or a different result.\n",
      "  return np.add.reduce(sorted[indexer] * weights, axis=axis) / sumval\n"
     ]
    },
    {
     "data": {
      "text/plain": [
       "<matplotlib.axes._subplots.AxesSubplot at 0x7fdc02619320>"
      ]
     },
     "execution_count": 9,
     "metadata": {},
     "output_type": "execute_result"
    },
    {
     "data": {
      "image/png": "[encoded data removed]",
      "text/plain": [
       "<Figure size 432x288 with 1 Axes>"
      ]
     },
     "metadata": {},
     "output_type": "display_data"
    }
   ],
   "source": [
    "sns.distplot(active_credit_df.Balance)"
   ]
  },
  {
   "cell_type": "markdown",
   "metadata": {
    "_cell_guid": "ebfc4389-b18a-4e15-a5a1-eb134d21dbb9",
    "_uuid": "dc0e28a60b4ea5018863917b9a4a94e66f664ee4"
   },
   "source": [
    "Without the zero Balances, the curve resembles a normal distribution. The analysis will make use of both data frames to fit models and explore the differences in those models.\n",
    "\n",
    "In addition, a new variable can be added to the original data frame which specifies whether an individual is a regular user of their credit card (i.e. whether they have a positive Balance)."
   ]
  },
  {
   "cell_type": "code",
   "execution_count": 10,
   "metadata": {
    "_cell_guid": "0747f306-5417-4708-bff0-c35e51493330",
    "_uuid": "eacb54676e4f3df171e986f9dcb45ec6991f2b55"
   },
   "outputs": [
    {
     "data": {
      "text/plain": [
       "count     400\n",
       "unique      2\n",
       "top       Yes\n",
       "freq      310\n",
       "Name: Active, dtype: object"
      ]
     },
     "execution_count": 10,
     "metadata": {},
     "output_type": "execute_result"
    }
   ],
   "source": [
    "credit_df['Active'] = np.where(credit_df['Balance']>0, 'Yes', 'No')  \n",
    "credit_df.Active.describe()"
   ]
  },
  {
   "cell_type": "markdown",
   "metadata": {
    "_cell_guid": "1c608470-e2d3-47c0-afa4-df71894feeac",
    "_uuid": "7395e7e5a8dcab7312c40f35ba28e83d0c599572"
   },
   "source": [
    "> ## Pairwise correlations"
   ]
  },
  {
   "cell_type": "markdown",
   "metadata": {
    "_cell_guid": "b2a76e25-d44b-47a2-81dc-961fb4072ffa",
    "_uuid": "6a6eac673bb10e709391731b79685941de0fea36"
   },
   "source": [
    "A correlation matrix will be created in order to visualize the relationships among the numerical predictors and the target of inference. "
   ]
  },
  {
   "cell_type": "code",
   "execution_count": 11,
   "metadata": {
    "_cell_guid": "1ba5c4b1-8cdd-457e-b026-1038f4cafc00",
    "_uuid": "371b5828f036f6e300a741c63fe057cf925e932e"
   },
   "outputs": [
    {
     "data": {
      "text/plain": [
       "([<matplotlib.axis.YTick at 0x7fdc02536be0>,\n",
       "  <matplotlib.axis.YTick at 0x7fdc02536518>,\n",
       "  <matplotlib.axis.YTick at 0x7fdc02531550>,\n",
       "  <matplotlib.axis.YTick at 0x7fdc024ac160>,\n",
       "  <matplotlib.axis.YTick at 0x7fdc024ac5c0>,\n",
       "  <matplotlib.axis.YTick at 0x7fdc024aca90>,\n",
       "  <matplotlib.axis.YTick at 0x7fdc024acf60>],\n",
       " <a list of 7 Text yticklabel objects>)"
      ]
     },
     "execution_count": 11,
     "metadata": {},
     "output_type": "execute_result"
    },
    {
     "data": {
      "image/png": "[encoded data removed]",
      "text/plain": [
       "<Figure size 576x576 with 2 Axes>"
      ]
     },
     "metadata": {},
     "output_type": "display_data"
    }
   ],
   "source": [
    "numeric_credit_df = credit_df.select_dtypes(include=['int64', 'float64'])\n",
    "plt.figure(figsize=(8,8))\n",
    "plt.matshow(credit_df.corr(), cmap=plt.cm.Blues, fignum=1)\n",
    "plt.colorbar()\n",
    "tick_marks = [i for i in range(len(numeric_credit_df.columns))]\n",
    "plt.xticks(tick_marks, numeric_credit_df.columns)\n",
    "plt.yticks(tick_marks, numeric_credit_df.columns)"
   ]
  },
  {
   "cell_type": "markdown",
   "metadata": {
    "_cell_guid": "72c2c0f4-a5fc-449f-a036-9ac7e5116d5c",
    "_uuid": "dd390dff59c059fda421af2831b114357c0a59c7"
   },
   "source": [
    "Based on the correlation matrix, Balance appears correlated with Limit, Rating, and moderately correlated with Income. In addition, Limit and Rating are highly correlated with each other, and they both have a relationship with Income. \n",
    "\n",
    "However, this matrix does not confirm whether the correlation coefficients are statistically significant, hence further investigation is necessary."
   ]
  },
  {
   "cell_type": "code",
   "execution_count": 12,
   "metadata": {
    "_cell_guid": "1513bd55-8a85-4f49-a2e1-ceab8b939658",
    "_kg_hide-input": true,
    "_uuid": "1245aed80ef119e47b9499a2e46b6a0fc22f4771"
   },
   "outputs": [
    {
     "name": "stdout",
     "output_type": "stream",
     "text": [
      "Correlation coefficient Balance-Limit: 0.8616972670153954\n",
      " p-value: 2.5305807117137046e-119\n",
      "\n",
      "Correlation coefficient Balance-Rating: 0.8636251606214953\n",
      " p-value: 1.8988990970400204e-120\n",
      "\n",
      "Correlation coefficient Balance-Income: 0.46365645701575736\n",
      " p-value: 1.0308858025894099e-22\n",
      "\n",
      "Correlation coefficient Limit-Rating: 0.9968797370016825\n",
      " p-value: 0.0\n",
      "\n",
      "Correlation coefficient Limit-Income: 0.7920883413369414\n",
      " p-value: 2.391789442285437e-87\n",
      "\n",
      "Correlation coefficient Rating-Income: 0.7913776251121217\n",
      " p-value: 4.362691443090436e-87\n",
      "\n"
     ]
    }
   ],
   "source": [
    "from scipy.stats import pearsonr\n",
    "r1, p1 = pearsonr(credit_df.Balance, credit_df.Limit)\n",
    "msg = \"Correlation coefficient Balance-Limit: {}\\n p-value: {}\\n\"\n",
    "print(msg.format(r1, p1))\n",
    "r2, p2 = pearsonr(credit_df.Balance, credit_df.Rating)\n",
    "msg = \"Correlation coefficient Balance-Rating: {}\\n p-value: {}\\n\"\n",
    "print(msg.format(r2, p2))\n",
    "r3, p3 = pearsonr(credit_df.Balance, credit_df.Income)\n",
    "msg = \"Correlation coefficient Balance-Income: {}\\n p-value: {}\\n\"\n",
    "print(msg.format(r3, p3))\n",
    "r4, p4 = pearsonr(credit_df.Limit, credit_df.Rating)\n",
    "msg = \"Correlation coefficient Limit-Rating: {}\\n p-value: {}\\n\"\n",
    "print(msg.format(r4, p4))\n",
    "r5, p5 = pearsonr(credit_df.Limit, credit_df.Income)\n",
    "msg = \"Correlation coefficient Limit-Income: {}\\n p-value: {}\\n\"\n",
    "print(msg.format(r5, p5))\n",
    "r6, p6 = pearsonr(credit_df.Rating, credit_df.Income)\n",
    "msg = \"Correlation coefficient Rating-Income: {}\\n p-value: {}\\n\"\n",
    "print(msg.format(r6, p6))\n"
   ]
  },
  {
   "cell_type": "markdown",
   "metadata": {
    "_cell_guid": "52c905a2-b271-4464-8465-94fa85286a4c",
    "_uuid": "8ec7a2f4c92dfbc1027fe1c46b2b83a306c109da"
   },
   "source": [
    "All the relationships are significant. Additionally Limit and Rating have a remarkably high correlation coefficient."
   ]
  },
  {
   "cell_type": "code",
   "execution_count": 13,
   "metadata": {
    "_cell_guid": "b67cd0fd-e248-4d91-a21b-40b56e766e47",
    "_kg_hide-input": false,
    "_kg_hide-output": false,
    "_uuid": "28356ba833be385d2d6f4d32ec90b91893f536e7"
   },
   "outputs": [
    {
     "name": "stderr",
     "output_type": "stream",
     "text": [
      "/opt/conda/lib/python3.6/site-packages/scipy/stats/stats.py:1713: FutureWarning: Using a non-tuple sequence for multidimensional indexing is deprecated; use `arr[tuple(seq)]` instead of `arr[seq]`. In the future this will be interpreted as an array index, `arr[np.array(seq)]`, which will result either in an error or a different result.\n",
      "  return np.add.reduce(sorted[indexer] * weights, axis=axis) / sumval\n"
     ]
    },
    {
     "data": {
      "text/plain": [
       "<matplotlib.axes._subplots.AxesSubplot at 0x7fdc024d70f0>"
      ]
     },
     "execution_count": 13,
     "metadata": {},
     "output_type": "execute_result"
    },
    {
     "data": {
      "image/png": "[encoded data removed]",
      "text/plain": [
       "<Figure size 432x288 with 1 Axes>"
      ]
     },
     "metadata": {},
     "output_type": "display_data"
    }
   ],
   "source": [
    "sns.regplot(x='Limit',\n",
    "           y='Rating',\n",
    "           data=credit_df,\n",
    "           scatter_kws={'alpha':0.2},\n",
    "           line_kws={'color':'black'})"
   ]
  },
  {
   "cell_type": "markdown",
   "metadata": {
    "_cell_guid": "937998ab-61df-4e53-b920-5d70f75c76f4",
    "_uuid": "22cd52ed2dac6d4cf4fd8adcd04c5c5d3b32be26"
   },
   "source": [
    "Limit and Rating are highly correlated, introducing multi-colinearity in the model. More specifically, Rating as an antecedent of Limit is more meaningful for the model because it also drives Limit levels for card owners. Therefore, if one of the two should be removed to fix collinearity issues, Limit has a lower priority for the model. Finally, it is pertinent to note that both Limit and Rating are complex measures, subsuming a range of other factors, among which several already present in the model, such as Education or Income. \n",
    "\n",
    "For clarity, the analysis will focus less on Rating and Limit, and more on those measures representing more direct indicators of credit profiling. \n",
    "\n",
    "We will now examine the categorical variables and their relationship to balance. "
   ]
  },
  {
   "cell_type": "code",
   "execution_count": 14,
   "metadata": {
    "_cell_guid": "e0d512ae-98e3-424a-9f3b-256c7825194e",
    "_uuid": "ba6c9f29b486a095a36c8d4d8194691df5793409"
   },
   "outputs": [
    {
     "data": {
      "text/plain": [
       "Ethnicity\n",
       "African American    AxesSubplot(0.555556,0.125;0.344444x0.328261)\n",
       "Asian               AxesSubplot(0.555556,0.125;0.344444x0.328261)\n",
       "Caucasian           AxesSubplot(0.555556,0.125;0.344444x0.328261)\n",
       "Name: Balance, dtype: object"
      ]
     },
     "execution_count": 14,
     "metadata": {},
     "output_type": "execute_result"
    },
    {
     "data": {
      "image/png": "[encoded data removed]",
      "text/plain": [
       "<Figure size 1080x432 with 4 Axes>"
      ]
     },
     "metadata": {},
     "output_type": "display_data"
    }
   ],
   "source": [
    "f, axes = plt.subplots(2, 2, figsize=(15, 6))\n",
    "f.subplots_adjust(hspace=.3, wspace=.25)\n",
    "credit_df.groupby('Gender').Balance.plot(kind='kde', ax=axes[0][0], legend=True, title='Balance by Gender')\n",
    "credit_df.groupby('Student').Balance.plot(kind='kde', ax=axes[0][1], legend=True, title='Balance by Student')\n",
    "credit_df.groupby('Married').Balance.plot(kind='kde', ax=axes[1][0], legend=True, title='Balance by Married')\n",
    "credit_df.groupby('Ethnicity').Balance.plot(kind='kde', ax=axes[1][1], legend=True, title='Balance by Ethnicity')"
   ]
  },
  {
   "cell_type": "markdown",
   "metadata": {
    "_cell_guid": "8a0d9fad-2ded-4922-b65b-324953a51953",
    "_uuid": "81b5904f3ab876f3c6539265a67943c7a979c59e"
   },
   "source": [
    "Student appears to be the only predictor to influence the distribution of Balance. To verify, the same relationships can be analyzed on the active-only sample of the population. "
   ]
  },
  {
   "cell_type": "code",
   "execution_count": 15,
   "metadata": {
    "_cell_guid": "158765cc-9f15-47fc-890e-410f4ee5b402",
    "_uuid": "f2a84df91908c317eb7d40a38ac27d677927e13c"
   },
   "outputs": [
    {
     "data": {
      "text/plain": [
       "Ethnicity\n",
       "African American    AxesSubplot(0.555556,0.125;0.344444x0.328261)\n",
       "Asian               AxesSubplot(0.555556,0.125;0.344444x0.328261)\n",
       "Caucasian           AxesSubplot(0.555556,0.125;0.344444x0.328261)\n",
       "Name: Balance, dtype: object"
      ]
     },
     "execution_count": 15,
     "metadata": {},
     "output_type": "execute_result"
    },
    {
     "data": {
      "image/png": "[encoded data removed]",
      "text/plain": [
       "<Figure size 1080x432 with 4 Axes>"
      ]
     },
     "metadata": {},
     "output_type": "display_data"
    }
   ],
   "source": [
    "f, axes = plt.subplots(2, 2, figsize=(15, 6))\n",
    "f.subplots_adjust(hspace=.3, wspace=.25)\n",
    "active_credit_df.groupby('Gender').Balance.plot(kind='kde', ax=axes[0][0], legend=True, title='Balance by Gender')\n",
    "active_credit_df.groupby('Student').Balance.plot(kind='kde', ax=axes[0][1], legend=True, title='Balance by Student')\n",
    "active_credit_df.groupby('Married').Balance.plot(kind='kde', ax=axes[1][0], legend=True, title='Balance by Married')\n",
    "active_credit_df.groupby('Ethnicity').Balance.plot(kind='kde', ax=axes[1][1], legend=True, title='Balance by Ethnicity')"
   ]
  },
  {
   "cell_type": "markdown",
   "metadata": {
    "_cell_guid": "9431053b-c88c-4bdd-9204-a419832b30d3",
    "_uuid": "bad082900e0d7bd4462e1aac7de3ada8dce99c0c"
   },
   "source": [
    "Although the variables Gender, Married, and Ethnicity do not appear associated with Balance when observed in isolation, their interaction with one another might make them valuable. This will be investigated at a later point in the analysis. \n",
    "\n",
    "The Student variable should be closely examined at this point."
   ]
  },
  {
   "cell_type": "code",
   "execution_count": 16,
   "metadata": {
    "_cell_guid": "9f3301d1-0cfa-4c1f-bff5-2ddf254fee78",
    "_kg_hide-input": false,
    "_kg_hide-output": false,
    "_uuid": "d5cd095a5d5c3f8324b552098d8c36713be10f20"
   },
   "outputs": [
    {
     "data": {
      "text/plain": [
       "<matplotlib.axes._subplots.AxesSubplot at 0x7fdbf79c6dd8>"
      ]
     },
     "execution_count": 16,
     "metadata": {},
     "output_type": "execute_result"
    },
    {
     "data": {
      "image/png": "[encoded data removed]",
      "text/plain": [
       "<Figure size 432x288 with 1 Axes>"
      ]
     },
     "metadata": {},
     "output_type": "display_data"
    }
   ],
   "source": [
    "sns.boxplot(x='Student', y='Balance', data = credit_df)"
   ]
  },
  {
   "cell_type": "markdown",
   "metadata": {
    "_cell_guid": "3613eee5-728b-45d1-b282-4edc475b7721",
    "_uuid": "36c3608380fb43b05818acb36f50fb3f9d18f53f"
   },
   "source": [
    "Students display on average higher credit card Balances. We infer that Students have a higher need for financing due to student loans and have generally lower personal income (which will be seen later in the analysis). Moreover, we could presume that students tend to have less control over their finances and their financial flexibility may be lower. "
   ]
  },
  {
   "cell_type": "markdown",
   "metadata": {
    "_cell_guid": "d416551b-89d5-45a9-81f1-5e24fd051313",
    "_uuid": "a39f3ad86feb8e2f7e126b87bee4545d18c31b99"
   },
   "source": [
    "> # Multivariable Regression Modelling"
   ]
  },
  {
   "cell_type": "markdown",
   "metadata": {
    "_cell_guid": "396ed45f-e555-4803-e192-6fa329f18f70",
    "_uuid": "bb461dab5f7fbd22046e994604555c37ba517367"
   },
   "source": [
    "After visually examining the predictors and their relationship with Balance, regression models can be fit using those predictors. feature selection will be used to determine which combination of variables best predicts credit card Balance. \n",
    "\n",
    "Given the choice of 9 predictors, the initial model could include all of them. Yet, as previously noted, due to potential collinearity issues, Limit will be eliminated. \n",
    "\n",
    "The Ordinary Least Square algorithm is used to create the linear regression model."
   ]
  },
  {
   "cell_type": "code",
   "execution_count": 17,
   "metadata": {
    "_cell_guid": "dceb5d01-1b25-4b4e-b52c-a6f1ce364b68",
    "_uuid": "f97046bb401f58a9e1f1aed2f494f02d58f827ad"
   },
   "outputs": [
    {
     "data": {
      "text/html": [
       "<table class=\"simpletable\">\n",
       "<caption>OLS Regression Results</caption>\n",
       "<tr>\n",
       "  <th>Dep. Variable:</th>         <td>Balance</td>     <th>  R-squared:         </th> <td>   0.951</td> \n",
       "</tr>\n",
       "<tr>\n",
       "  <th>Model:</th>                   <td>OLS</td>       <th>  Adj. R-squared:    </th> <td>   0.950</td> \n",
       "</tr>\n",
       "<tr>\n",
       "  <th>Method:</th>             <td>Least Squares</td>  <th>  F-statistic:       </th> <td>   757.8</td> \n",
       "</tr>\n",
       "<tr>\n",
       "  <th>Date:</th>             <td>Tue, 10 Mar 2020</td> <th>  Prob (F-statistic):</th> <td>4.46e-248</td>\n",
       "</tr>\n",
       "<tr>\n",
       "  <th>Time:</th>                 <td>00:54:45</td>     <th>  Log-Likelihood:    </th> <td> -2415.4</td> \n",
       "</tr>\n",
       "<tr>\n",
       "  <th>No. Observations:</th>      <td>   400</td>      <th>  AIC:               </th> <td>   4853.</td> \n",
       "</tr>\n",
       "<tr>\n",
       "  <th>Df Residuals:</th>          <td>   389</td>      <th>  BIC:               </th> <td>   4897.</td> \n",
       "</tr>\n",
       "<tr>\n",
       "  <th>Df Model:</th>              <td>    10</td>      <th>                     </th>     <td> </td>    \n",
       "</tr>\n",
       "<tr>\n",
       "  <th>Covariance Type:</th>      <td>nonrobust</td>    <th>                     </th>     <td> </td>    \n",
       "</tr>\n",
       "</table>\n",
       "<table class=\"simpletable\">\n",
       "<tr>\n",
       "             <td></td>               <th>coef</th>     <th>std err</th>      <th>t</th>      <th>P>|t|</th>  <th>[0.025</th>    <th>0.975]</th>  \n",
       "</tr>\n",
       "<tr>\n",
       "  <th>Intercept</th>              <td> -549.3140</td> <td>   35.085</td> <td>  -15.657</td> <td> 0.000</td> <td> -618.293</td> <td> -480.335</td>\n",
       "</tr>\n",
       "<tr>\n",
       "  <th>Gender[T.Female]</th>       <td>  -10.7106</td> <td>   10.325</td> <td>   -1.037</td> <td> 0.300</td> <td>  -31.010</td> <td>    9.589</td>\n",
       "</tr>\n",
       "<tr>\n",
       "  <th>Student[T.Yes]</th>         <td>  416.4376</td> <td>   17.336</td> <td>   24.021</td> <td> 0.000</td> <td>  382.353</td> <td>  450.522</td>\n",
       "</tr>\n",
       "<tr>\n",
       "  <th>Married[T.Yes]</th>         <td>  -15.1096</td> <td>   10.728</td> <td>   -1.408</td> <td> 0.160</td> <td>  -36.202</td> <td>    5.983</td>\n",
       "</tr>\n",
       "<tr>\n",
       "  <th>Ethnicity[T.Asian]</th>     <td>   21.7616</td> <td>   14.678</td> <td>    1.483</td> <td> 0.139</td> <td>   -7.096</td> <td>   50.619</td>\n",
       "</tr>\n",
       "<tr>\n",
       "  <th>Ethnicity[T.Caucasian]</th> <td>   10.6492</td> <td>   12.716</td> <td>    0.837</td> <td> 0.403</td> <td>  -14.351</td> <td>   35.649</td>\n",
       "</tr>\n",
       "<tr>\n",
       "  <th>Income</th>                 <td>   -7.7746</td> <td>    0.244</td> <td>  -31.878</td> <td> 0.000</td> <td>   -8.254</td> <td>   -7.295</td>\n",
       "</tr>\n",
       "<tr>\n",
       "  <th>Rating</th>                 <td>    3.9790</td> <td>    0.055</td> <td>   72.332</td> <td> 0.000</td> <td>    3.871</td> <td>    4.087</td>\n",
       "</tr>\n",
       "<tr>\n",
       "  <th>Cards</th>                  <td>    3.9654</td> <td>    3.793</td> <td>    1.045</td> <td> 0.296</td> <td>   -3.492</td> <td>   11.422</td>\n",
       "</tr>\n",
       "<tr>\n",
       "  <th>Age</th>                    <td>   -0.6416</td> <td>    0.306</td> <td>   -2.096</td> <td> 0.037</td> <td>   -1.243</td> <td>   -0.040</td>\n",
       "</tr>\n",
       "<tr>\n",
       "  <th>Education</th>              <td>   -0.3799</td> <td>    1.659</td> <td>   -0.229</td> <td> 0.819</td> <td>   -3.642</td> <td>    2.882</td>\n",
       "</tr>\n",
       "</table>\n",
       "<table class=\"simpletable\">\n",
       "<tr>\n",
       "  <th>Omnibus:</th>       <td>15.651</td> <th>  Durbin-Watson:     </th> <td>   1.987</td>\n",
       "</tr>\n",
       "<tr>\n",
       "  <th>Prob(Omnibus):</th> <td> 0.000</td> <th>  Jarque-Bera (JB):  </th> <td>  16.769</td>\n",
       "</tr>\n",
       "<tr>\n",
       "  <th>Skew:</th>          <td> 0.490</td> <th>  Prob(JB):          </th> <td>0.000228</td>\n",
       "</tr>\n",
       "<tr>\n",
       "  <th>Kurtosis:</th>      <td> 2.789</td> <th>  Cond. No.          </th> <td>2.73e+03</td>\n",
       "</tr>\n",
       "</table><br/><br/>Warnings:<br/>[1] Standard Errors assume that the covariance matrix of the errors is correctly specified.<br/>[2] The condition number is large, 2.73e+03. This might indicate that there are<br/>strong multicollinearity or other numerical problems."
      ],
      "text/plain": [
       "<class 'statsmodels.iolib.summary.Summary'>\n",
       "\"\"\"\n",
       "                            OLS Regression Results                            \n",
       "==============================================================================\n",
       "Dep. Variable:                Balance   R-squared:                       0.951\n",
       "Model:                            OLS   Adj. R-squared:                  0.950\n",
       "Method:                 Least Squares   F-statistic:                     757.8\n",
       "Date:                Tue, 10 Mar 2020   Prob (F-statistic):          4.46e-248\n",
       "Time:                        00:54:45   Log-Likelihood:                -2415.4\n",
       "No. Observations:                 400   AIC:                             4853.\n",
       "Df Residuals:                     389   BIC:                             4897.\n",
       "Df Model:                          10                                         \n",
       "Covariance Type:            nonrobust                                         \n",
       "==========================================================================================\n",
       "                             coef    std err          t      P>|t|      [0.025      0.975]\n",
       "------------------------------------------------------------------------------------------\n",
       "Intercept               -549.3140     35.085    -15.657      0.000    -618.293    -480.335\n",
       "Gender[T.Female]         -10.7106     10.325     -1.037      0.300     -31.010       9.589\n",
       "Student[T.Yes]           416.4376     17.336     24.021      0.000     382.353     450.522\n",
       "Married[T.Yes]           -15.1096     10.728     -1.408      0.160     -36.202       5.983\n",
       "Ethnicity[T.Asian]        21.7616     14.678      1.483      0.139      -7.096      50.619\n",
       "Ethnicity[T.Caucasian]    10.6492     12.716      0.837      0.403     -14.351      35.649\n",
       "Income                    -7.7746      0.244    -31.878      0.000      -8.254      -7.295\n",
       "Rating                     3.9790      0.055     72.332      0.000       3.871       4.087\n",
       "Cards                      3.9654      3.793      1.045      0.296      -3.492      11.422\n",
       "Age                       -0.6416      0.306     -2.096      0.037      -1.243      -0.040\n",
       "Education                 -0.3799      1.659     -0.229      0.819      -3.642       2.882\n",
       "==============================================================================\n",
       "Omnibus:                       15.651   Durbin-Watson:                   1.987\n",
       "Prob(Omnibus):                  0.000   Jarque-Bera (JB):               16.769\n",
       "Skew:                           0.490   Prob(JB):                     0.000228\n",
       "Kurtosis:                       2.789   Cond. No.                     2.73e+03\n",
       "==============================================================================\n",
       "\n",
       "Warnings:\n",
       "[1] Standard Errors assume that the covariance matrix of the errors is correctly specified.\n",
       "[2] The condition number is large, 2.73e+03. This might indicate that there are\n",
       "strong multicollinearity or other numerical problems.\n",
       "\"\"\""
      ]
     },
     "execution_count": 17,
     "metadata": {},
     "output_type": "execute_result"
    }
   ],
   "source": [
    "mod0 = smf.ols('Balance ~ Income + Rating + Cards + Age + Education + Gender + Student + Married + Ethnicity', data = credit_df).fit()\n",
    "mod0.summary()"
   ]
  },
  {
   "cell_type": "markdown",
   "metadata": {
    "_cell_guid": "c0da3047-d1c7-4c50-b1a9-bfade792fd8a",
    "_uuid": "e7168242ea5c0ba78ab907ea9b043db6ccc258d7"
   },
   "source": [
    "Income is negatively related to balance which could be interpreted in the sense that the higher the Income, the lower the need to access loans. \n",
    "\n",
    "Student has an expected positive impact. Similarly, these results are consistent with Age. This variable reveals that with Age, the credit card Balance decreases which corroborate the notion that people become more in charge of their finances over time. \n",
    "\n",
    "Surprisingly, the years of Education do not have a significant impact on the credit card Balance. Other variables with no impact are Cards, Ethnicity, Gender and Married. \n",
    "\n",
    "We fit the same model on our reduced dataset of only active customers."
   ]
  },
  {
   "cell_type": "code",
   "execution_count": 18,
   "metadata": {
    "_cell_guid": "9bb1b2f8-8fdf-f191-4394-3aa41781c6da",
    "_uuid": "ac2801037010ecce93a517545131e589321ec704"
   },
   "outputs": [
    {
     "data": {
      "text/html": [
       "<table class=\"simpletable\">\n",
       "<caption>OLS Regression Results</caption>\n",
       "<tr>\n",
       "  <th>Dep. Variable:</th>         <td>Balance</td>     <th>  R-squared:         </th> <td>   0.985</td> \n",
       "</tr>\n",
       "<tr>\n",
       "  <th>Model:</th>                   <td>OLS</td>       <th>  Adj. R-squared:    </th> <td>   0.984</td> \n",
       "</tr>\n",
       "<tr>\n",
       "  <th>Method:</th>             <td>Least Squares</td>  <th>  F-statistic:       </th> <td>   1918.</td> \n",
       "</tr>\n",
       "<tr>\n",
       "  <th>Date:</th>             <td>Tue, 10 Mar 2020</td> <th>  Prob (F-statistic):</th> <td>1.38e-264</td>\n",
       "</tr>\n",
       "<tr>\n",
       "  <th>Time:</th>                 <td>00:54:45</td>     <th>  Log-Likelihood:    </th> <td> -1659.9</td> \n",
       "</tr>\n",
       "<tr>\n",
       "  <th>No. Observations:</th>      <td>   310</td>      <th>  AIC:               </th> <td>   3342.</td> \n",
       "</tr>\n",
       "<tr>\n",
       "  <th>Df Residuals:</th>          <td>   299</td>      <th>  BIC:               </th> <td>   3383.</td> \n",
       "</tr>\n",
       "<tr>\n",
       "  <th>Df Model:</th>              <td>    10</td>      <th>                     </th>     <td> </td>    \n",
       "</tr>\n",
       "<tr>\n",
       "  <th>Covariance Type:</th>      <td>nonrobust</td>    <th>                     </th>     <td> </td>    \n",
       "</tr>\n",
       "</table>\n",
       "<table class=\"simpletable\">\n",
       "<tr>\n",
       "             <td></td>               <th>coef</th>     <th>std err</th>      <th>t</th>      <th>P>|t|</th>  <th>[0.025</th>    <th>0.975]</th>  \n",
       "</tr>\n",
       "<tr>\n",
       "  <th>Intercept</th>              <td> -791.3689</td> <td>   21.193</td> <td>  -37.340</td> <td> 0.000</td> <td> -833.076</td> <td> -749.662</td>\n",
       "</tr>\n",
       "<tr>\n",
       "  <th>Gender[T.Female]</th>       <td>   -2.6107</td> <td>    5.961</td> <td>   -0.438</td> <td> 0.662</td> <td>  -14.341</td> <td>    9.119</td>\n",
       "</tr>\n",
       "<tr>\n",
       "  <th>Student[T.Yes]</th>         <td>  478.1566</td> <td>    9.239</td> <td>   51.752</td> <td> 0.000</td> <td>  459.974</td> <td>  496.339</td>\n",
       "</tr>\n",
       "<tr>\n",
       "  <th>Married[T.Yes]</th>         <td>  -14.0808</td> <td>    6.221</td> <td>   -2.263</td> <td> 0.024</td> <td>  -26.324</td> <td>   -1.837</td>\n",
       "</tr>\n",
       "<tr>\n",
       "  <th>Ethnicity[T.Asian]</th>     <td>    4.1786</td> <td>    8.590</td> <td>    0.486</td> <td> 0.627</td> <td>  -12.726</td> <td>   21.083</td>\n",
       "</tr>\n",
       "<tr>\n",
       "  <th>Ethnicity[T.Caucasian]</th> <td>   -1.8990</td> <td>    7.284</td> <td>   -0.261</td> <td> 0.794</td> <td>  -16.233</td> <td>   12.435</td>\n",
       "</tr>\n",
       "<tr>\n",
       "  <th>Income</th>                 <td>   -9.7126</td> <td>    0.145</td> <td>  -66.859</td> <td> 0.000</td> <td>   -9.999</td> <td>   -9.427</td>\n",
       "</tr>\n",
       "<tr>\n",
       "  <th>Rating</th>                 <td>    4.7767</td> <td>    0.040</td> <td>  120.602</td> <td> 0.000</td> <td>    4.699</td> <td>    4.855</td>\n",
       "</tr>\n",
       "<tr>\n",
       "  <th>Cards</th>                  <td>    3.0923</td> <td>    2.102</td> <td>    1.471</td> <td> 0.142</td> <td>   -1.045</td> <td>    7.229</td>\n",
       "</tr>\n",
       "<tr>\n",
       "  <th>Age</th>                    <td>   -1.1431</td> <td>    0.176</td> <td>   -6.481</td> <td> 0.000</td> <td>   -1.490</td> <td>   -0.796</td>\n",
       "</tr>\n",
       "<tr>\n",
       "  <th>Education</th>              <td>    1.2817</td> <td>    0.938</td> <td>    1.366</td> <td> 0.173</td> <td>   -0.564</td> <td>    3.128</td>\n",
       "</tr>\n",
       "</table>\n",
       "<table class=\"simpletable\">\n",
       "<tr>\n",
       "  <th>Omnibus:</th>       <td> 2.652</td> <th>  Durbin-Watson:     </th> <td>   2.008</td>\n",
       "</tr>\n",
       "<tr>\n",
       "  <th>Prob(Omnibus):</th> <td> 0.265</td> <th>  Jarque-Bera (JB):  </th> <td>   2.433</td>\n",
       "</tr>\n",
       "<tr>\n",
       "  <th>Skew:</th>          <td>-0.139</td> <th>  Prob(JB):          </th> <td>   0.296</td>\n",
       "</tr>\n",
       "<tr>\n",
       "  <th>Kurtosis:</th>      <td> 2.666</td> <th>  Cond. No.          </th> <td>3.14e+03</td>\n",
       "</tr>\n",
       "</table><br/><br/>Warnings:<br/>[1] Standard Errors assume that the covariance matrix of the errors is correctly specified.<br/>[2] The condition number is large, 3.14e+03. This might indicate that there are<br/>strong multicollinearity or other numerical problems."
      ],
      "text/plain": [
       "<class 'statsmodels.iolib.summary.Summary'>\n",
       "\"\"\"\n",
       "                            OLS Regression Results                            \n",
       "==============================================================================\n",
       "Dep. Variable:                Balance   R-squared:                       0.985\n",
       "Model:                            OLS   Adj. R-squared:                  0.984\n",
       "Method:                 Least Squares   F-statistic:                     1918.\n",
       "Date:                Tue, 10 Mar 2020   Prob (F-statistic):          1.38e-264\n",
       "Time:                        00:54:45   Log-Likelihood:                -1659.9\n",
       "No. Observations:                 310   AIC:                             3342.\n",
       "Df Residuals:                     299   BIC:                             3383.\n",
       "Df Model:                          10                                         \n",
       "Covariance Type:            nonrobust                                         \n",
       "==========================================================================================\n",
       "                             coef    std err          t      P>|t|      [0.025      0.975]\n",
       "------------------------------------------------------------------------------------------\n",
       "Intercept               -791.3689     21.193    -37.340      0.000    -833.076    -749.662\n",
       "Gender[T.Female]          -2.6107      5.961     -0.438      0.662     -14.341       9.119\n",
       "Student[T.Yes]           478.1566      9.239     51.752      0.000     459.974     496.339\n",
       "Married[T.Yes]           -14.0808      6.221     -2.263      0.024     -26.324      -1.837\n",
       "Ethnicity[T.Asian]         4.1786      8.590      0.486      0.627     -12.726      21.083\n",
       "Ethnicity[T.Caucasian]    -1.8990      7.284     -0.261      0.794     -16.233      12.435\n",
       "Income                    -9.7126      0.145    -66.859      0.000      -9.999      -9.427\n",
       "Rating                     4.7767      0.040    120.602      0.000       4.699       4.855\n",
       "Cards                      3.0923      2.102      1.471      0.142      -1.045       7.229\n",
       "Age                       -1.1431      0.176     -6.481      0.000      -1.490      -0.796\n",
       "Education                  1.2817      0.938      1.366      0.173      -0.564       3.128\n",
       "==============================================================================\n",
       "Omnibus:                        2.652   Durbin-Watson:                   2.008\n",
       "Prob(Omnibus):                  0.265   Jarque-Bera (JB):                2.433\n",
       "Skew:                          -0.139   Prob(JB):                        0.296\n",
       "Kurtosis:                       2.666   Cond. No.                     3.14e+03\n",
       "==============================================================================\n",
       "\n",
       "Warnings:\n",
       "[1] Standard Errors assume that the covariance matrix of the errors is correctly specified.\n",
       "[2] The condition number is large, 3.14e+03. This might indicate that there are\n",
       "strong multicollinearity or other numerical problems.\n",
       "\"\"\""
      ]
     },
     "execution_count": 18,
     "metadata": {},
     "output_type": "execute_result"
    }
   ],
   "source": [
    "active_mod0 = smf.ols('Balance ~ Income + Rating + Cards + Age + Education + Gender + Student + Married + Ethnicity', data = active_credit_df).fit()\n",
    "active_mod0.summary()"
   ]
  },
  {
   "cell_type": "markdown",
   "metadata": {
    "_cell_guid": "ae177ce9-dc91-4cba-95ff-2f299cbb3a0c",
    "_uuid": "a94717518f06e6f422df17b9f09e0e47e625dafd"
   },
   "source": [
    "The model has a superior fit for the Active customers dataset. This points to the hypothesis that perhaps the non-active customers are driven by some reason other than the ones present in our variables. Since they rarely make use of their credit card, it is difficult to draw conclusions. Perhaps they, in fact, have credit card debt, yet we do not have the relevant data, potentially their credit card is provided by a different company. An alternative explanation could be that the card owners maintain a zero-balance card in order to decrease their credit utilization and boost their credit rating, assuming they also own a positive balance credit card elsewhere. \n",
    "\n",
    "We could exclude the variables which yield a high p-value from the model. Nevertheless, these variables could have an interaction with other variables and might still be significant.\n",
    "\n",
    "We continue by fitting a model with only the variables that proved significant, yet as part of the analysis, we will return to examining the other variables. "
   ]
  },
  {
   "cell_type": "code",
   "execution_count": 19,
   "metadata": {
    "_cell_guid": "faf6b35f-5930-4b2c-a03b-1c89094d50dc",
    "_uuid": "fe8bf4c1deb780e58aa0e7a228c6ddffb7a0f772"
   },
   "outputs": [
    {
     "data": {
      "text/html": [
       "<table class=\"simpletable\">\n",
       "<caption>OLS Regression Results</caption>\n",
       "<tr>\n",
       "  <th>Dep. Variable:</th>         <td>Balance</td>     <th>  R-squared:         </th> <td>   0.950</td> \n",
       "</tr>\n",
       "<tr>\n",
       "  <th>Model:</th>                   <td>OLS</td>       <th>  Adj. R-squared:    </th> <td>   0.950</td> \n",
       "</tr>\n",
       "<tr>\n",
       "  <th>Method:</th>             <td>Least Squares</td>  <th>  F-statistic:       </th> <td>   1892.</td> \n",
       "</tr>\n",
       "<tr>\n",
       "  <th>Date:</th>             <td>Tue, 10 Mar 2020</td> <th>  Prob (F-statistic):</th> <td>4.17e-256</td>\n",
       "</tr>\n",
       "<tr>\n",
       "  <th>Time:</th>                 <td>00:54:45</td>     <th>  Log-Likelihood:    </th> <td> -2418.6</td> \n",
       "</tr>\n",
       "<tr>\n",
       "  <th>No. Observations:</th>      <td>   400</td>      <th>  AIC:               </th> <td>   4847.</td> \n",
       "</tr>\n",
       "<tr>\n",
       "  <th>Df Residuals:</th>          <td>   395</td>      <th>  BIC:               </th> <td>   4867.</td> \n",
       "</tr>\n",
       "<tr>\n",
       "  <th>Df Model:</th>              <td>     4</td>      <th>                     </th>     <td> </td>    \n",
       "</tr>\n",
       "<tr>\n",
       "  <th>Covariance Type:</th>      <td>nonrobust</td>    <th>                     </th>     <td> </td>    \n",
       "</tr>\n",
       "</table>\n",
       "<table class=\"simpletable\">\n",
       "<tr>\n",
       "         <td></td>           <th>coef</th>     <th>std err</th>      <th>t</th>      <th>P>|t|</th>  <th>[0.025</th>    <th>0.975]</th>  \n",
       "</tr>\n",
       "<tr>\n",
       "  <th>Intercept</th>      <td> -547.3047</td> <td>   21.461</td> <td>  -25.503</td> <td> 0.000</td> <td> -589.496</td> <td> -505.113</td>\n",
       "</tr>\n",
       "<tr>\n",
       "  <th>Student[T.Yes]</th> <td>  417.5056</td> <td>   17.172</td> <td>   24.314</td> <td> 0.000</td> <td>  383.746</td> <td>  451.265</td>\n",
       "</tr>\n",
       "<tr>\n",
       "  <th>Income</th>         <td>   -7.7977</td> <td>    0.242</td> <td>  -32.198</td> <td> 0.000</td> <td>   -8.274</td> <td>   -7.322</td>\n",
       "</tr>\n",
       "<tr>\n",
       "  <th>Rating</th>         <td>    3.9807</td> <td>    0.055</td> <td>   72.927</td> <td> 0.000</td> <td>    3.873</td> <td>    4.088</td>\n",
       "</tr>\n",
       "<tr>\n",
       "  <th>Age</th>            <td>   -0.6242</td> <td>    0.304</td> <td>   -2.053</td> <td> 0.041</td> <td>   -1.222</td> <td>   -0.026</td>\n",
       "</tr>\n",
       "</table>\n",
       "<table class=\"simpletable\">\n",
       "<tr>\n",
       "  <th>Omnibus:</th>       <td>15.838</td> <th>  Durbin-Watson:     </th> <td>   1.953</td>\n",
       "</tr>\n",
       "<tr>\n",
       "  <th>Prob(Omnibus):</th> <td> 0.000</td> <th>  Jarque-Bera (JB):  </th> <td>  17.000</td>\n",
       "</tr>\n",
       "<tr>\n",
       "  <th>Skew:</th>          <td> 0.494</td> <th>  Prob(JB):          </th> <td>0.000203</td>\n",
       "</tr>\n",
       "<tr>\n",
       "  <th>Kurtosis:</th>      <td> 2.793</td> <th>  Cond. No.          </th> <td>1.66e+03</td>\n",
       "</tr>\n",
       "</table><br/><br/>Warnings:<br/>[1] Standard Errors assume that the covariance matrix of the errors is correctly specified.<br/>[2] The condition number is large, 1.66e+03. This might indicate that there are<br/>strong multicollinearity or other numerical problems."
      ],
      "text/plain": [
       "<class 'statsmodels.iolib.summary.Summary'>\n",
       "\"\"\"\n",
       "                            OLS Regression Results                            \n",
       "==============================================================================\n",
       "Dep. Variable:                Balance   R-squared:                       0.950\n",
       "Model:                            OLS   Adj. R-squared:                  0.950\n",
       "Method:                 Least Squares   F-statistic:                     1892.\n",
       "Date:                Tue, 10 Mar 2020   Prob (F-statistic):          4.17e-256\n",
       "Time:                        00:54:45   Log-Likelihood:                -2418.6\n",
       "No. Observations:                 400   AIC:                             4847.\n",
       "Df Residuals:                     395   BIC:                             4867.\n",
       "Df Model:                           4                                         \n",
       "Covariance Type:            nonrobust                                         \n",
       "==================================================================================\n",
       "                     coef    std err          t      P>|t|      [0.025      0.975]\n",
       "----------------------------------------------------------------------------------\n",
       "Intercept       -547.3047     21.461    -25.503      0.000    -589.496    -505.113\n",
       "Student[T.Yes]   417.5056     17.172     24.314      0.000     383.746     451.265\n",
       "Income            -7.7977      0.242    -32.198      0.000      -8.274      -7.322\n",
       "Rating             3.9807      0.055     72.927      0.000       3.873       4.088\n",
       "Age               -0.6242      0.304     -2.053      0.041      -1.222      -0.026\n",
       "==============================================================================\n",
       "Omnibus:                       15.838   Durbin-Watson:                   1.953\n",
       "Prob(Omnibus):                  0.000   Jarque-Bera (JB):               17.000\n",
       "Skew:                           0.494   Prob(JB):                     0.000203\n",
       "Kurtosis:                       2.793   Cond. No.                     1.66e+03\n",
       "==============================================================================\n",
       "\n",
       "Warnings:\n",
       "[1] Standard Errors assume that the covariance matrix of the errors is correctly specified.\n",
       "[2] The condition number is large, 1.66e+03. This might indicate that there are\n",
       "strong multicollinearity or other numerical problems.\n",
       "\"\"\""
      ]
     },
     "execution_count": 19,
     "metadata": {},
     "output_type": "execute_result"
    }
   ],
   "source": [
    "mod1 = smf.ols('Balance ~ Income + Rating + Age + Student', data = credit_df).fit()\n",
    "mod1.summary()"
   ]
  },
  {
   "cell_type": "markdown",
   "metadata": {
    "_cell_guid": "0b00d318-619c-49a4-a0e1-540626667d3a",
    "_uuid": "d415ea42ac39e36ccaa7097c6612b0f9b6cba7c3"
   },
   "source": [
    "Now all the variables are significant, but the R-squared has, in fact, decreased. \n",
    "\n",
    "The potential relationships among these 4 variables should be analyzed."
   ]
  },
  {
   "cell_type": "code",
   "execution_count": 20,
   "metadata": {
    "_cell_guid": "b9136e08-a29e-4434-9984-da20dca6bbab",
    "_uuid": "1fa104e77c1f8852a8e52ad0e9ff0a62d71a26e4"
   },
   "outputs": [
    {
     "data": {
      "text/plain": [
       "Student\n",
       "No     AxesSubplot(0.555556,0.125;0.344444x0.18875)\n",
       "Yes    AxesSubplot(0.555556,0.125;0.344444x0.18875)\n",
       "Name: Age, dtype: object"
      ]
     },
     "execution_count": 20,
     "metadata": {},
     "output_type": "execute_result"
    },
    {
     "data": {
      "image/png": "[encoded data removed]",
      "text/plain": [
       "<Figure size 864x720 with 6 Axes>"
      ]
     },
     "metadata": {},
     "output_type": "display_data"
    }
   ],
   "source": [
    "f, axes = plt.subplots(3, 2, figsize=(12, 10))\n",
    "f.subplots_adjust(hspace=.5, wspace=.25)\n",
    "credit_df.groupby('Student').Income.plot(kind='kde', ax=axes[0][0], title='Income by Student')\n",
    "credit_df.groupby('Student').Rating.plot(kind='kde', ax=axes[0][1], title='Rating by Student')\n",
    "credit_df.plot(kind='scatter', x='Age' , y='Income' , ax=axes[1][0], title='Income and Age')\n",
    "credit_df.plot(kind='scatter', x='Age' , y='Rating' , ax=axes[1][1], color='orange', title='Rating and Age')\n",
    "credit_df.plot(kind='scatter', x='Rating' , y='Income' , ax=axes[2][0], color='orange', title='Income and Rating')\n",
    "credit_df.groupby('Student').Age.plot(kind='kde', ax=axes[2][1], legend=True, title='Age by Student')"
   ]
  },
  {
   "cell_type": "markdown",
   "metadata": {
    "_cell_guid": "ad17ab25-8a19-4509-84b8-5d0bbd651040",
    "_uuid": "69ada5ab5dd26b79404b2c10a25269b62b612c7b"
   },
   "source": [
    "As expected, we notice a positive relationship between Income and Rating. This could be explained by the fact that credit Rating is a score assigned to individuals based on their creditworthiness, including the level of personal Income. \n",
    "\n",
    "Furthermore, as we predicted earlier, Students display lower values of Income compared to non-Students. \n",
    "\n",
    "Surprisingly, in this dataset, the Income does not Increase with Age, and the Age of Students compared to non-Students does not differ significantly. This observation could lead us to be concerned about the data quality or to seek further attributes of this population to conduct additional investigation. Nonetheless, given the simulated nature of this dataset additional inquiries are not feasible, yet it is worth noting that on a different population, we expect a stronger relationship among Age, Student, and Income. \n",
    "\n",
    "We will now closer examine Balance and Income for Students and non-Students. Since we are interested in how Balance behaves, we will only take into account non-zero Balances."
   ]
  },
  {
   "cell_type": "code",
   "execution_count": 21,
   "metadata": {
    "_cell_guid": "7e49f30f-e88d-4353-990a-aea90ad65617",
    "_uuid": "1f994e18a8f8d194b58e558745b4524d33501dec"
   },
   "outputs": [
    {
     "data": {
      "text/plain": [
       "<seaborn.axisgrid.FacetGrid at 0x7fdbf5df2da0>"
      ]
     },
     "execution_count": 21,
     "metadata": {},
     "output_type": "execute_result"
    },
    {
     "data": {
      "image/png": "[encoded data removed]",
      "text/plain": [
       "<Figure size 720x360 with 2 Axes>"
      ]
     },
     "metadata": {},
     "output_type": "display_data"
    }
   ],
   "source": [
    "sns.lmplot(x='Income',\n",
    "          y='Balance',\n",
    "          data=active_credit_df,\n",
    "          line_kws={'color':'black'},\n",
    "          lowess=True,\n",
    "          col='Student')"
   ]
  },
  {
   "cell_type": "markdown",
   "metadata": {
    "_cell_guid": "bbe16ff0-c1d2-43e3-8b75-120a33f4a33c",
    "_uuid": "83ae0f2e89eaa28a5057088eaf13d6fb4720593e"
   },
   "source": [
    "We observe a positive relationship between Balance and Income for non-Students, however, in the case of Students, changes in Income do not impact their average credit card Balance. A further step would be to fit a regression model on non-Students only and observe Balance. For Students, the line appears to behave differently in 3 sections, so perhaps a Spline model might be appropriate. However, the sample size of Students is not large enough (no. of observations = 40) for the results to add significant value to the overall analysis.\n",
    "\n",
    "An interesting observation is that the regression analysis showed that Income was negatively related to Balance, yet this figure appears to show a positive relationship. We should verify whether the relationship is in fact non-linear."
   ]
  },
  {
   "cell_type": "markdown",
   "metadata": {
    "_cell_guid": "56d752bf-2d84-40ad-98a6-90d9b8e77753",
    "_uuid": "937f7fd37daeec75562ae5a3bac5bbbffe8e1fab"
   },
   "source": [
    "> ## Non-linear Relationships"
   ]
  },
  {
   "cell_type": "code",
   "execution_count": 22,
   "metadata": {
    "_cell_guid": "083ffa7b-8f83-4bb8-a84a-f2cf9be0e762",
    "_uuid": "50c0dd0bddfd97cf877269d2eb50455b8e839d14"
   },
   "outputs": [
    {
     "data": {
      "text/html": [
       "<table class=\"simpletable\">\n",
       "<caption>OLS Regression Results</caption>\n",
       "<tr>\n",
       "  <th>Dep. Variable:</th>         <td>Balance</td>     <th>  R-squared:         </th> <td>   0.951</td> \n",
       "</tr>\n",
       "<tr>\n",
       "  <th>Model:</th>                   <td>OLS</td>       <th>  Adj. R-squared:    </th> <td>   0.950</td> \n",
       "</tr>\n",
       "<tr>\n",
       "  <th>Method:</th>             <td>Least Squares</td>  <th>  F-statistic:       </th> <td>   1524.</td> \n",
       "</tr>\n",
       "<tr>\n",
       "  <th>Date:</th>             <td>Tue, 10 Mar 2020</td> <th>  Prob (F-statistic):</th> <td>3.68e-255</td>\n",
       "</tr>\n",
       "<tr>\n",
       "  <th>Time:</th>                 <td>00:54:47</td>     <th>  Log-Likelihood:    </th> <td> -2416.9</td> \n",
       "</tr>\n",
       "<tr>\n",
       "  <th>No. Observations:</th>      <td>   400</td>      <th>  AIC:               </th> <td>   4846.</td> \n",
       "</tr>\n",
       "<tr>\n",
       "  <th>Df Residuals:</th>          <td>   394</td>      <th>  BIC:               </th> <td>   4870.</td> \n",
       "</tr>\n",
       "<tr>\n",
       "  <th>Df Model:</th>              <td>     5</td>      <th>                     </th>     <td> </td>    \n",
       "</tr>\n",
       "<tr>\n",
       "  <th>Covariance Type:</th>      <td>nonrobust</td>    <th>                     </th>     <td> </td>    \n",
       "</tr>\n",
       "</table>\n",
       "<table class=\"simpletable\">\n",
       "<tr>\n",
       "         <td></td>           <th>coef</th>     <th>std err</th>      <th>t</th>      <th>P>|t|</th>  <th>[0.025</th>    <th>0.975]</th>  \n",
       "</tr>\n",
       "<tr>\n",
       "  <th>Intercept</th>      <td> -527.6722</td> <td>   23.950</td> <td>  -22.032</td> <td> 0.000</td> <td> -574.757</td> <td> -480.587</td>\n",
       "</tr>\n",
       "<tr>\n",
       "  <th>Student[T.Yes]</th> <td>  416.9706</td> <td>   17.124</td> <td>   24.350</td> <td> 0.000</td> <td>  383.305</td> <td>  450.636</td>\n",
       "</tr>\n",
       "<tr>\n",
       "  <th>Income</th>         <td>   -8.6268</td> <td>    0.514</td> <td>  -16.768</td> <td> 0.000</td> <td>   -9.638</td> <td>   -7.615</td>\n",
       "</tr>\n",
       "<tr>\n",
       "  <th>I(Income ** 2)</th> <td>    0.0055</td> <td>    0.003</td> <td>    1.825</td> <td> 0.069</td> <td>   -0.000</td> <td>    0.011</td>\n",
       "</tr>\n",
       "<tr>\n",
       "  <th>Age</th>            <td>   -0.6161</td> <td>    0.303</td> <td>   -2.032</td> <td> 0.043</td> <td>   -1.212</td> <td>   -0.020</td>\n",
       "</tr>\n",
       "<tr>\n",
       "  <th>Rating</th>         <td>    3.9790</td> <td>    0.054</td> <td>   73.098</td> <td> 0.000</td> <td>    3.872</td> <td>    4.086</td>\n",
       "</tr>\n",
       "</table>\n",
       "<table class=\"simpletable\">\n",
       "<tr>\n",
       "  <th>Omnibus:</th>       <td>14.185</td> <th>  Durbin-Watson:     </th> <td>   1.954</td>\n",
       "</tr>\n",
       "<tr>\n",
       "  <th>Prob(Omnibus):</th> <td> 0.001</td> <th>  Jarque-Bera (JB):  </th> <td>  14.920</td>\n",
       "</tr>\n",
       "<tr>\n",
       "  <th>Skew:</th>          <td> 0.456</td> <th>  Prob(JB):          </th> <td>0.000576</td>\n",
       "</tr>\n",
       "<tr>\n",
       "  <th>Kurtosis:</th>      <td> 2.748</td> <th>  Cond. No.          </th> <td>3.05e+04</td>\n",
       "</tr>\n",
       "</table><br/><br/>Warnings:<br/>[1] Standard Errors assume that the covariance matrix of the errors is correctly specified.<br/>[2] The condition number is large, 3.05e+04. This might indicate that there are<br/>strong multicollinearity or other numerical problems."
      ],
      "text/plain": [
       "<class 'statsmodels.iolib.summary.Summary'>\n",
       "\"\"\"\n",
       "                            OLS Regression Results                            \n",
       "==============================================================================\n",
       "Dep. Variable:                Balance   R-squared:                       0.951\n",
       "Model:                            OLS   Adj. R-squared:                  0.950\n",
       "Method:                 Least Squares   F-statistic:                     1524.\n",
       "Date:                Tue, 10 Mar 2020   Prob (F-statistic):          3.68e-255\n",
       "Time:                        00:54:47   Log-Likelihood:                -2416.9\n",
       "No. Observations:                 400   AIC:                             4846.\n",
       "Df Residuals:                     394   BIC:                             4870.\n",
       "Df Model:                           5                                         \n",
       "Covariance Type:            nonrobust                                         \n",
       "==================================================================================\n",
       "                     coef    std err          t      P>|t|      [0.025      0.975]\n",
       "----------------------------------------------------------------------------------\n",
       "Intercept       -527.6722     23.950    -22.032      0.000    -574.757    -480.587\n",
       "Student[T.Yes]   416.9706     17.124     24.350      0.000     383.305     450.636\n",
       "Income            -8.6268      0.514    -16.768      0.000      -9.638      -7.615\n",
       "I(Income ** 2)     0.0055      0.003      1.825      0.069      -0.000       0.011\n",
       "Age               -0.6161      0.303     -2.032      0.043      -1.212      -0.020\n",
       "Rating             3.9790      0.054     73.098      0.000       3.872       4.086\n",
       "==============================================================================\n",
       "Omnibus:                       14.185   Durbin-Watson:                   1.954\n",
       "Prob(Omnibus):                  0.001   Jarque-Bera (JB):               14.920\n",
       "Skew:                           0.456   Prob(JB):                     0.000576\n",
       "Kurtosis:                       2.748   Cond. No.                     3.05e+04\n",
       "==============================================================================\n",
       "\n",
       "Warnings:\n",
       "[1] Standard Errors assume that the covariance matrix of the errors is correctly specified.\n",
       "[2] The condition number is large, 3.05e+04. This might indicate that there are\n",
       "strong multicollinearity or other numerical problems.\n",
       "\"\"\""
      ]
     },
     "execution_count": 22,
     "metadata": {},
     "output_type": "execute_result"
    }
   ],
   "source": [
    "mod2 = smf.ols('Balance ~ Income + I(Income**2) + Age + Student + Rating', data = credit_df).fit()\n",
    "mod2.summary()"
   ]
  },
  {
   "cell_type": "markdown",
   "metadata": {
    "_cell_guid": "87c30bd0-5a06-424a-81d6-f7fe1c6f1c07",
    "_uuid": "dab35387c15e0e4fe589782b2684fcdee19e9a99"
   },
   "source": [
    "The model has improved and the non-linear term is marginally significant. Additionally, while Income has a negative impact on Balance, Income squared has a slightly positive impact. We expect Balance to have a negative slope initially, and a positive one at higher levels of Income. We can plot this relationship."
   ]
  },
  {
   "cell_type": "code",
   "execution_count": 23,
   "metadata": {
    "_cell_guid": "3ec7a443-1df7-4ac5-be9d-d4e307e118fa",
    "_uuid": "623da6ebe2a52ffece4e3d665e4932dcd2f01f40"
   },
   "outputs": [
    {
     "data": {
      "text/plain": [
       "<matplotlib.axes._subplots.AxesSubplot at 0x7fdbf5c309b0>"
      ]
     },
     "execution_count": 23,
     "metadata": {},
     "output_type": "execute_result"
    },
    {
     "data": {
      "image/png": "[encoded data removed]",
      "text/plain": [
       "<Figure size 432x288 with 1 Axes>"
      ]
     },
     "metadata": {},
     "output_type": "display_data"
    }
   ],
   "source": [
    "sns.regplot('Balance', 'Income',\n",
    "           data = active_credit_df,\n",
    "           ci=None,\n",
    "           order=2,\n",
    "           line_kws={'color':'black'})"
   ]
  },
  {
   "cell_type": "markdown",
   "metadata": {
    "_cell_guid": "803d418f-e08d-46b6-b754-90a44ef23985",
    "_uuid": "1ea7835a4b903bc0e3c90e86c6f8fde7e01b1d8a"
   },
   "source": [
    "As anticipated, at lower levels of Income, increases in personal Income cause a decrease in credit card Balance, which can be interpreted as individuals requiring less financing as they make use of personal finances instead of credit debt. \n",
    "\n",
    "However, at high levels of income, Balance increases, meaning that those individuals are in higher need of loans, potentially due to increased investment activities and a greater risk tolerance. "
   ]
  },
  {
   "cell_type": "markdown",
   "metadata": {
    "_cell_guid": "204e561c-4fcb-4141-af01-217fcee4bac8",
    "_uuid": "db8471c1842d16cde05a549dd6bbf4f7e2ef2652"
   },
   "source": [
    "> ## Interactions Between Predictors\n",
    "\n",
    "An interaction term could be considered between Income and Rating. This stems from the assumption that there could be a synergy between Income and Rating; that individuals with increased levels of Income and high credit Rating will have a higher level of financial control and stability."
   ]
  },
  {
   "cell_type": "code",
   "execution_count": 24,
   "metadata": {
    "_cell_guid": "aa5320c8-9ddc-7230-3af0-8f3b6c139b14",
    "_uuid": "2c6e27b4874ef227a76258417b624a216136d597"
   },
   "outputs": [
    {
     "data": {
      "text/html": [
       "<table class=\"simpletable\">\n",
       "<caption>OLS Regression Results</caption>\n",
       "<tr>\n",
       "  <th>Dep. Variable:</th>         <td>Balance</td>     <th>  R-squared:         </th> <td>   0.957</td> \n",
       "</tr>\n",
       "<tr>\n",
       "  <th>Model:</th>                   <td>OLS</td>       <th>  Adj. R-squared:    </th> <td>   0.956</td> \n",
       "</tr>\n",
       "<tr>\n",
       "  <th>Method:</th>             <td>Least Squares</td>  <th>  F-statistic:       </th> <td>   1458.</td> \n",
       "</tr>\n",
       "<tr>\n",
       "  <th>Date:</th>             <td>Tue, 10 Mar 2020</td> <th>  Prob (F-statistic):</th> <td>5.13e-265</td>\n",
       "</tr>\n",
       "<tr>\n",
       "  <th>Time:</th>                 <td>00:54:47</td>     <th>  Log-Likelihood:    </th> <td> -2390.0</td> \n",
       "</tr>\n",
       "<tr>\n",
       "  <th>No. Observations:</th>      <td>   400</td>      <th>  AIC:               </th> <td>   4794.</td> \n",
       "</tr>\n",
       "<tr>\n",
       "  <th>Df Residuals:</th>          <td>   393</td>      <th>  BIC:               </th> <td>   4822.</td> \n",
       "</tr>\n",
       "<tr>\n",
       "  <th>Df Model:</th>              <td>     6</td>      <th>                     </th>     <td> </td>    \n",
       "</tr>\n",
       "<tr>\n",
       "  <th>Covariance Type:</th>      <td>nonrobust</td>    <th>                     </th>     <td> </td>    \n",
       "</tr>\n",
       "</table>\n",
       "<table class=\"simpletable\">\n",
       "<tr>\n",
       "         <td></td>           <th>coef</th>     <th>std err</th>      <th>t</th>      <th>P>|t|</th>  <th>[0.025</th>    <th>0.975]</th>  \n",
       "</tr>\n",
       "<tr>\n",
       "  <th>Intercept</th>      <td> -429.1239</td> <td>   25.969</td> <td>  -16.524</td> <td> 0.000</td> <td> -480.180</td> <td> -378.068</td>\n",
       "</tr>\n",
       "<tr>\n",
       "  <th>Student[T.Yes]</th> <td>  425.7135</td> <td>   16.073</td> <td>   26.487</td> <td> 0.000</td> <td>  394.114</td> <td>  457.313</td>\n",
       "</tr>\n",
       "<tr>\n",
       "  <th>Income</th>         <td>   -9.0837</td> <td>    0.485</td> <td>  -18.712</td> <td> 0.000</td> <td>  -10.038</td> <td>   -8.129</td>\n",
       "</tr>\n",
       "<tr>\n",
       "  <th>I(Income ** 2)</th> <td>   -0.0329</td> <td>    0.006</td> <td>   -5.638</td> <td> 0.000</td> <td>   -0.044</td> <td>   -0.021</td>\n",
       "</tr>\n",
       "<tr>\n",
       "  <th>Age</th>            <td>   -0.6821</td> <td>    0.284</td> <td>   -2.402</td> <td> 0.017</td> <td>   -1.240</td> <td>   -0.124</td>\n",
       "</tr>\n",
       "<tr>\n",
       "  <th>Rating</th>         <td>    3.4940</td> <td>    0.082</td> <td>   42.515</td> <td> 0.000</td> <td>    3.332</td> <td>    3.656</td>\n",
       "</tr>\n",
       "<tr>\n",
       "  <th>Income:Rating</th>  <td>    0.0110</td> <td>    0.001</td> <td>    7.521</td> <td> 0.000</td> <td>    0.008</td> <td>    0.014</td>\n",
       "</tr>\n",
       "</table>\n",
       "<table class=\"simpletable\">\n",
       "<tr>\n",
       "  <th>Omnibus:</th>       <td> 7.324</td> <th>  Durbin-Watson:     </th> <td>   1.967</td>\n",
       "</tr>\n",
       "<tr>\n",
       "  <th>Prob(Omnibus):</th> <td> 0.026</td> <th>  Jarque-Bera (JB):  </th> <td>   6.374</td>\n",
       "</tr>\n",
       "<tr>\n",
       "  <th>Skew:</th>          <td> 0.237</td> <th>  Prob(JB):          </th> <td>  0.0413</td>\n",
       "</tr>\n",
       "<tr>\n",
       "  <th>Kurtosis:</th>      <td> 2.604</td> <th>  Cond. No.          </th> <td>1.85e+05</td>\n",
       "</tr>\n",
       "</table><br/><br/>Warnings:<br/>[1] Standard Errors assume that the covariance matrix of the errors is correctly specified.<br/>[2] The condition number is large, 1.85e+05. This might indicate that there are<br/>strong multicollinearity or other numerical problems."
      ],
      "text/plain": [
       "<class 'statsmodels.iolib.summary.Summary'>\n",
       "\"\"\"\n",
       "                            OLS Regression Results                            \n",
       "==============================================================================\n",
       "Dep. Variable:                Balance   R-squared:                       0.957\n",
       "Model:                            OLS   Adj. R-squared:                  0.956\n",
       "Method:                 Least Squares   F-statistic:                     1458.\n",
       "Date:                Tue, 10 Mar 2020   Prob (F-statistic):          5.13e-265\n",
       "Time:                        00:54:47   Log-Likelihood:                -2390.0\n",
       "No. Observations:                 400   AIC:                             4794.\n",
       "Df Residuals:                     393   BIC:                             4822.\n",
       "Df Model:                           6                                         \n",
       "Covariance Type:            nonrobust                                         \n",
       "==================================================================================\n",
       "                     coef    std err          t      P>|t|      [0.025      0.975]\n",
       "----------------------------------------------------------------------------------\n",
       "Intercept       -429.1239     25.969    -16.524      0.000    -480.180    -378.068\n",
       "Student[T.Yes]   425.7135     16.073     26.487      0.000     394.114     457.313\n",
       "Income            -9.0837      0.485    -18.712      0.000     -10.038      -8.129\n",
       "I(Income ** 2)    -0.0329      0.006     -5.638      0.000      -0.044      -0.021\n",
       "Age               -0.6821      0.284     -2.402      0.017      -1.240      -0.124\n",
       "Rating             3.4940      0.082     42.515      0.000       3.332       3.656\n",
       "Income:Rating      0.0110      0.001      7.521      0.000       0.008       0.014\n",
       "==============================================================================\n",
       "Omnibus:                        7.324   Durbin-Watson:                   1.967\n",
       "Prob(Omnibus):                  0.026   Jarque-Bera (JB):                6.374\n",
       "Skew:                           0.237   Prob(JB):                       0.0413\n",
       "Kurtosis:                       2.604   Cond. No.                     1.85e+05\n",
       "==============================================================================\n",
       "\n",
       "Warnings:\n",
       "[1] Standard Errors assume that the covariance matrix of the errors is correctly specified.\n",
       "[2] The condition number is large, 1.85e+05. This might indicate that there are\n",
       "strong multicollinearity or other numerical problems.\n",
       "\"\"\""
      ]
     },
     "execution_count": 24,
     "metadata": {},
     "output_type": "execute_result"
    }
   ],
   "source": [
    "mod3 = smf.ols('Balance ~ Income + I(Income**2) + Age + Student + Income*Rating', data = credit_df).fit()\n",
    "mod3.summary()"
   ]
  },
  {
   "cell_type": "markdown",
   "metadata": {
    "_cell_guid": "7c1f83bc-cb6c-4bcf-869a-f7bb5e2e3694",
    "_uuid": "46109809ee205fe6ac8adecdcb3fe840d112f7dd",
    "collapsed": true
   },
   "source": [
    "The Adjusted R-squared increased and the interaction term is statistically significant.\n",
    "\n",
    "We could examine how the variables that were originally removed interact with other variables, such as for example years spent in Education and personal Income. "
   ]
  },
  {
   "cell_type": "code",
   "execution_count": 25,
   "metadata": {
    "_cell_guid": "0d3b111e-4d01-4428-b23f-e9bc016d36a9",
    "_uuid": "9aac632dde0101f64512cf28ee94b7675dd3ef27"
   },
   "outputs": [
    {
     "data": {
      "text/html": [
       "<table class=\"simpletable\">\n",
       "<caption>OLS Regression Results</caption>\n",
       "<tr>\n",
       "  <th>Dep. Variable:</th>         <td>Balance</td>     <th>  R-squared:         </th> <td>   0.951</td> \n",
       "</tr>\n",
       "<tr>\n",
       "  <th>Model:</th>                   <td>OLS</td>       <th>  Adj. R-squared:    </th> <td>   0.951</td> \n",
       "</tr>\n",
       "<tr>\n",
       "  <th>Method:</th>             <td>Least Squares</td>  <th>  F-statistic:       </th> <td>   1096.</td> \n",
       "</tr>\n",
       "<tr>\n",
       "  <th>Date:</th>             <td>Tue, 10 Mar 2020</td> <th>  Prob (F-statistic):</th> <td>5.89e-253</td>\n",
       "</tr>\n",
       "<tr>\n",
       "  <th>Time:</th>                 <td>00:54:48</td>     <th>  Log-Likelihood:    </th> <td> -2414.6</td> \n",
       "</tr>\n",
       "<tr>\n",
       "  <th>No. Observations:</th>      <td>   400</td>      <th>  AIC:               </th> <td>   4845.</td> \n",
       "</tr>\n",
       "<tr>\n",
       "  <th>Df Residuals:</th>          <td>   392</td>      <th>  BIC:               </th> <td>   4877.</td> \n",
       "</tr>\n",
       "<tr>\n",
       "  <th>Df Model:</th>              <td>     7</td>      <th>                     </th>     <td> </td>    \n",
       "</tr>\n",
       "<tr>\n",
       "  <th>Covariance Type:</th>      <td>nonrobust</td>    <th>                     </th>     <td> </td>    \n",
       "</tr>\n",
       "</table>\n",
       "<table class=\"simpletable\">\n",
       "<tr>\n",
       "          <td></td>            <th>coef</th>     <th>std err</th>      <th>t</th>      <th>P>|t|</th>  <th>[0.025</th>    <th>0.975]</th>  \n",
       "</tr>\n",
       "<tr>\n",
       "  <th>Intercept</th>        <td> -455.5497</td> <td>   44.548</td> <td>  -10.226</td> <td> 0.000</td> <td> -543.133</td> <td> -367.966</td>\n",
       "</tr>\n",
       "<tr>\n",
       "  <th>Student[T.Yes]</th>   <td>  416.8402</td> <td>   17.116</td> <td>   24.354</td> <td> 0.000</td> <td>  383.189</td> <td>  450.491</td>\n",
       "</tr>\n",
       "<tr>\n",
       "  <th>Income</th>           <td>   -9.9373</td> <td>    0.807</td> <td>  -12.308</td> <td> 0.000</td> <td>  -11.525</td> <td>   -8.350</td>\n",
       "</tr>\n",
       "<tr>\n",
       "  <th>I(Income ** 2)</th>   <td>    0.0060</td> <td>    0.003</td> <td>    1.977</td> <td> 0.049</td> <td> 3.17e-05</td> <td>    0.012</td>\n",
       "</tr>\n",
       "<tr>\n",
       "  <th>Rating</th>           <td>    3.9711</td> <td>    0.054</td> <td>   73.019</td> <td> 0.000</td> <td>    3.864</td> <td>    4.078</td>\n",
       "</tr>\n",
       "<tr>\n",
       "  <th>Age</th>              <td>   -0.6240</td> <td>    0.302</td> <td>   -2.064</td> <td> 0.040</td> <td>   -1.218</td> <td>   -0.030</td>\n",
       "</tr>\n",
       "<tr>\n",
       "  <th>Education</th>        <td>   -5.0695</td> <td>    2.673</td> <td>   -1.897</td> <td> 0.059</td> <td>  -10.324</td> <td>    0.185</td>\n",
       "</tr>\n",
       "<tr>\n",
       "  <th>Education:Income</th> <td>    0.0943</td> <td>    0.045</td> <td>    2.091</td> <td> 0.037</td> <td>    0.006</td> <td>    0.183</td>\n",
       "</tr>\n",
       "</table>\n",
       "<table class=\"simpletable\">\n",
       "<tr>\n",
       "  <th>Omnibus:</th>       <td>13.655</td> <th>  Durbin-Watson:     </th> <td>   1.959</td>\n",
       "</tr>\n",
       "<tr>\n",
       "  <th>Prob(Omnibus):</th> <td> 0.001</td> <th>  Jarque-Bera (JB):  </th> <td>  14.400</td>\n",
       "</tr>\n",
       "<tr>\n",
       "  <th>Skew:</th>          <td> 0.450</td> <th>  Prob(JB):          </th> <td>0.000747</td>\n",
       "</tr>\n",
       "<tr>\n",
       "  <th>Kurtosis:</th>      <td> 2.771</td> <th>  Cond. No.          </th> <td>5.70e+04</td>\n",
       "</tr>\n",
       "</table><br/><br/>Warnings:<br/>[1] Standard Errors assume that the covariance matrix of the errors is correctly specified.<br/>[2] The condition number is large, 5.7e+04. This might indicate that there are<br/>strong multicollinearity or other numerical problems."
      ],
      "text/plain": [
       "<class 'statsmodels.iolib.summary.Summary'>\n",
       "\"\"\"\n",
       "                            OLS Regression Results                            \n",
       "==============================================================================\n",
       "Dep. Variable:                Balance   R-squared:                       0.951\n",
       "Model:                            OLS   Adj. R-squared:                  0.951\n",
       "Method:                 Least Squares   F-statistic:                     1096.\n",
       "Date:                Tue, 10 Mar 2020   Prob (F-statistic):          5.89e-253\n",
       "Time:                        00:54:48   Log-Likelihood:                -2414.6\n",
       "No. Observations:                 400   AIC:                             4845.\n",
       "Df Residuals:                     392   BIC:                             4877.\n",
       "Df Model:                           7                                         \n",
       "Covariance Type:            nonrobust                                         \n",
       "====================================================================================\n",
       "                       coef    std err          t      P>|t|      [0.025      0.975]\n",
       "------------------------------------------------------------------------------------\n",
       "Intercept         -455.5497     44.548    -10.226      0.000    -543.133    -367.966\n",
       "Student[T.Yes]     416.8402     17.116     24.354      0.000     383.189     450.491\n",
       "Income              -9.9373      0.807    -12.308      0.000     -11.525      -8.350\n",
       "I(Income ** 2)       0.0060      0.003      1.977      0.049    3.17e-05       0.012\n",
       "Rating               3.9711      0.054     73.019      0.000       3.864       4.078\n",
       "Age                 -0.6240      0.302     -2.064      0.040      -1.218      -0.030\n",
       "Education           -5.0695      2.673     -1.897      0.059     -10.324       0.185\n",
       "Education:Income     0.0943      0.045      2.091      0.037       0.006       0.183\n",
       "==============================================================================\n",
       "Omnibus:                       13.655   Durbin-Watson:                   1.959\n",
       "Prob(Omnibus):                  0.001   Jarque-Bera (JB):               14.400\n",
       "Skew:                           0.450   Prob(JB):                     0.000747\n",
       "Kurtosis:                       2.771   Cond. No.                     5.70e+04\n",
       "==============================================================================\n",
       "\n",
       "Warnings:\n",
       "[1] Standard Errors assume that the covariance matrix of the errors is correctly specified.\n",
       "[2] The condition number is large, 5.7e+04. This might indicate that there are\n",
       "strong multicollinearity or other numerical problems.\n",
       "\"\"\""
      ]
     },
     "execution_count": 25,
     "metadata": {},
     "output_type": "execute_result"
    }
   ],
   "source": [
    "mod4 = smf.ols('Balance ~ Income + I(Income**2) + Rating + Age + Student + Education*Income', data = credit_df).fit()\n",
    "mod4.summary()"
   ]
  },
  {
   "cell_type": "markdown",
   "metadata": {
    "_cell_guid": "bb0aad58-f2a9-4661-b8c1-1f2d6cdc510f",
    "_uuid": "5841cf06c76815bf50ce1032a0f358b7a4a5ba24"
   },
   "source": [
    "Interestingly, while education did not appear significant at first, it does interact with Income, with a positive effect. Moreover, in this model Education itself seems marginally significant, meaning that the longer the time spent in education, the lower the Balance and the more financially cautious an individual is. Yet the effect reverses at high levels of Income and Education were highly educated high earning individuals appear to have higher needs for financing.  \n",
    "\n",
    "Let us consider further interactions, such as the one between Married and Age."
   ]
  },
  {
   "cell_type": "code",
   "execution_count": 26,
   "metadata": {
    "_cell_guid": "773a5be6-187f-49de-880c-c98895fb7a5b",
    "_uuid": "7f953c55d87e4de032a52c41353736de24d105b4"
   },
   "outputs": [
    {
     "data": {
      "text/html": [
       "<table class=\"simpletable\">\n",
       "<caption>OLS Regression Results</caption>\n",
       "<tr>\n",
       "  <th>Dep. Variable:</th>         <td>Balance</td>     <th>  R-squared:         </th> <td>   0.952</td> \n",
       "</tr>\n",
       "<tr>\n",
       "  <th>Model:</th>                   <td>OLS</td>       <th>  Adj. R-squared:    </th> <td>   0.951</td> \n",
       "</tr>\n",
       "<tr>\n",
       "  <th>Method:</th>             <td>Least Squares</td>  <th>  F-statistic:       </th> <td>   1101.</td> \n",
       "</tr>\n",
       "<tr>\n",
       "  <th>Date:</th>             <td>Tue, 10 Mar 2020</td> <th>  Prob (F-statistic):</th> <td>2.35e-253</td>\n",
       "</tr>\n",
       "<tr>\n",
       "  <th>Time:</th>                 <td>00:54:48</td>     <th>  Log-Likelihood:    </th> <td> -2413.6</td> \n",
       "</tr>\n",
       "<tr>\n",
       "  <th>No. Observations:</th>      <td>   400</td>      <th>  AIC:               </th> <td>   4843.</td> \n",
       "</tr>\n",
       "<tr>\n",
       "  <th>Df Residuals:</th>          <td>   392</td>      <th>  BIC:               </th> <td>   4875.</td> \n",
       "</tr>\n",
       "<tr>\n",
       "  <th>Df Model:</th>              <td>     7</td>      <th>                     </th>     <td> </td>    \n",
       "</tr>\n",
       "<tr>\n",
       "  <th>Covariance Type:</th>      <td>nonrobust</td>    <th>                     </th>     <td> </td>    \n",
       "</tr>\n",
       "</table>\n",
       "<table class=\"simpletable\">\n",
       "<tr>\n",
       "           <td></td>             <th>coef</th>     <th>std err</th>      <th>t</th>      <th>P>|t|</th>  <th>[0.025</th>    <th>0.975]</th>  \n",
       "</tr>\n",
       "<tr>\n",
       "  <th>Intercept</th>          <td> -561.6504</td> <td>   32.973</td> <td>  -17.033</td> <td> 0.000</td> <td> -626.477</td> <td> -496.823</td>\n",
       "</tr>\n",
       "<tr>\n",
       "  <th>Student[T.Yes]</th>     <td>  417.3806</td> <td>   17.121</td> <td>   24.378</td> <td> 0.000</td> <td>  383.720</td> <td>  451.041</td>\n",
       "</tr>\n",
       "<tr>\n",
       "  <th>Married[T.Yes]</th>     <td>   58.2726</td> <td>   35.992</td> <td>    1.619</td> <td> 0.106</td> <td>  -12.489</td> <td>  129.035</td>\n",
       "</tr>\n",
       "<tr>\n",
       "  <th>Income</th>             <td>   -8.6631</td> <td>    0.512</td> <td>  -16.924</td> <td> 0.000</td> <td>   -9.670</td> <td>   -7.657</td>\n",
       "</tr>\n",
       "<tr>\n",
       "  <th>I(Income ** 2)</th>     <td>    0.0059</td> <td>    0.003</td> <td>    1.949</td> <td> 0.052</td> <td>-5.12e-05</td> <td>    0.012</td>\n",
       "</tr>\n",
       "<tr>\n",
       "  <th>Rating</th>             <td>    3.9786</td> <td>    0.054</td> <td>   73.496</td> <td> 0.000</td> <td>    3.872</td> <td>    4.085</td>\n",
       "</tr>\n",
       "<tr>\n",
       "  <th>Age</th>                <td>    0.1420</td> <td>    0.481</td> <td>    0.295</td> <td> 0.768</td> <td>   -0.804</td> <td>    1.088</td>\n",
       "</tr>\n",
       "<tr>\n",
       "  <th>Married[T.Yes]:Age</th> <td>   -1.2944</td> <td>    0.611</td> <td>   -2.118</td> <td> 0.035</td> <td>   -2.496</td> <td>   -0.093</td>\n",
       "</tr>\n",
       "</table>\n",
       "<table class=\"simpletable\">\n",
       "<tr>\n",
       "  <th>Omnibus:</th>       <td>12.889</td> <th>  Durbin-Watson:     </th> <td>   1.958</td>\n",
       "</tr>\n",
       "<tr>\n",
       "  <th>Prob(Omnibus):</th> <td> 0.002</td> <th>  Jarque-Bera (JB):  </th> <td>  13.569</td>\n",
       "</tr>\n",
       "<tr>\n",
       "  <th>Skew:</th>          <td> 0.438</td> <th>  Prob(JB):          </th> <td> 0.00113</td>\n",
       "</tr>\n",
       "<tr>\n",
       "  <th>Kurtosis:</th>      <td> 2.786</td> <th>  Cond. No.          </th> <td>5.73e+04</td>\n",
       "</tr>\n",
       "</table><br/><br/>Warnings:<br/>[1] Standard Errors assume that the covariance matrix of the errors is correctly specified.<br/>[2] The condition number is large, 5.73e+04. This might indicate that there are<br/>strong multicollinearity or other numerical problems."
      ],
      "text/plain": [
       "<class 'statsmodels.iolib.summary.Summary'>\n",
       "\"\"\"\n",
       "                            OLS Regression Results                            \n",
       "==============================================================================\n",
       "Dep. Variable:                Balance   R-squared:                       0.952\n",
       "Model:                            OLS   Adj. R-squared:                  0.951\n",
       "Method:                 Least Squares   F-statistic:                     1101.\n",
       "Date:                Tue, 10 Mar 2020   Prob (F-statistic):          2.35e-253\n",
       "Time:                        00:54:48   Log-Likelihood:                -2413.6\n",
       "No. Observations:                 400   AIC:                             4843.\n",
       "Df Residuals:                     392   BIC:                             4875.\n",
       "Df Model:                           7                                         \n",
       "Covariance Type:            nonrobust                                         \n",
       "======================================================================================\n",
       "                         coef    std err          t      P>|t|      [0.025      0.975]\n",
       "--------------------------------------------------------------------------------------\n",
       "Intercept           -561.6504     32.973    -17.033      0.000    -626.477    -496.823\n",
       "Student[T.Yes]       417.3806     17.121     24.378      0.000     383.720     451.041\n",
       "Married[T.Yes]        58.2726     35.992      1.619      0.106     -12.489     129.035\n",
       "Income                -8.6631      0.512    -16.924      0.000      -9.670      -7.657\n",
       "I(Income ** 2)         0.0059      0.003      1.949      0.052   -5.12e-05       0.012\n",
       "Rating                 3.9786      0.054     73.496      0.000       3.872       4.085\n",
       "Age                    0.1420      0.481      0.295      0.768      -0.804       1.088\n",
       "Married[T.Yes]:Age    -1.2944      0.611     -2.118      0.035      -2.496      -0.093\n",
       "==============================================================================\n",
       "Omnibus:                       12.889   Durbin-Watson:                   1.958\n",
       "Prob(Omnibus):                  0.002   Jarque-Bera (JB):               13.569\n",
       "Skew:                           0.438   Prob(JB):                      0.00113\n",
       "Kurtosis:                       2.786   Cond. No.                     5.73e+04\n",
       "==============================================================================\n",
       "\n",
       "Warnings:\n",
       "[1] Standard Errors assume that the covariance matrix of the errors is correctly specified.\n",
       "[2] The condition number is large, 5.73e+04. This might indicate that there are\n",
       "strong multicollinearity or other numerical problems.\n",
       "\"\"\""
      ]
     },
     "execution_count": 26,
     "metadata": {},
     "output_type": "execute_result"
    }
   ],
   "source": [
    "mod5 = smf.ols('Balance ~ Income + I(Income**2) + Rating + Age + Student + Married*Age', data = credit_df).fit()\n",
    "mod5.summary()"
   ]
  },
  {
   "cell_type": "markdown",
   "metadata": {
    "_cell_guid": "c4cecebb-831f-4df5-aa77-a3d4935f124c",
    "_uuid": "656391c347eccaf15d88b7dafeefe872e310b028"
   },
   "source": [
    "While neither Married nor Age by themselves are significant, the interaction term is. This reveals the fact that individuals with higher values for Age who are also Married have lower credit card Balances pointing to higher financial prudence or risk aversion. We can visualize this relationship."
   ]
  },
  {
   "cell_type": "code",
   "execution_count": 27,
   "metadata": {
    "_cell_guid": "5f8959c4-8710-4034-a179-448050839947",
    "_uuid": "85deb354cdc0e0768d2151199a7f5ab76893ff12",
    "scrolled": true
   },
   "outputs": [
    {
     "data": {
      "image/png": "[encoded data removed]",
      "text/plain": [
       "<Figure size 413.359x360 with 1 Axes>"
      ]
     },
     "metadata": {},
     "output_type": "display_data"
    }
   ],
   "source": [
    "sns.lmplot(x=\"Age\", \n",
    "           y=\"Balance\", \n",
    "           hue=\"Married\", \n",
    "           ci=None,\n",
    "           data=active_credit_df);"
   ]
  },
  {
   "cell_type": "markdown",
   "metadata": {
    "_cell_guid": "1d03814b-b435-4948-b66e-c09b07f5e3e7",
    "_uuid": "4510c3e20fbe897bb0de51132689fa80782b8fb8"
   },
   "source": [
    "We continue by examining Gender and number of credit Cards."
   ]
  },
  {
   "cell_type": "code",
   "execution_count": 28,
   "metadata": {
    "_cell_guid": "717ebb26-ac53-4245-bc63-40f8019c8bed",
    "_uuid": "6710dcebb4ee2d20cf86f1e1fc816adcdf5adb3f"
   },
   "outputs": [
    {
     "data": {
      "text/html": [
       "<table class=\"simpletable\">\n",
       "<caption>OLS Regression Results</caption>\n",
       "<tr>\n",
       "  <th>Dep. Variable:</th>         <td>Balance</td>     <th>  R-squared:         </th> <td>   0.952</td> \n",
       "</tr>\n",
       "<tr>\n",
       "  <th>Model:</th>                   <td>OLS</td>       <th>  Adj. R-squared:    </th> <td>   0.951</td> \n",
       "</tr>\n",
       "<tr>\n",
       "  <th>Method:</th>             <td>Least Squares</td>  <th>  F-statistic:       </th> <td>   961.4</td> \n",
       "</tr>\n",
       "<tr>\n",
       "  <th>Date:</th>             <td>Tue, 10 Mar 2020</td> <th>  Prob (F-statistic):</th> <td>7.75e-252</td>\n",
       "</tr>\n",
       "<tr>\n",
       "  <th>Time:</th>                 <td>00:54:48</td>     <th>  Log-Likelihood:    </th> <td> -2413.6</td> \n",
       "</tr>\n",
       "<tr>\n",
       "  <th>No. Observations:</th>      <td>   400</td>      <th>  AIC:               </th> <td>   4845.</td> \n",
       "</tr>\n",
       "<tr>\n",
       "  <th>Df Residuals:</th>          <td>   391</td>      <th>  BIC:               </th> <td>   4881.</td> \n",
       "</tr>\n",
       "<tr>\n",
       "  <th>Df Model:</th>              <td>     8</td>      <th>                     </th>     <td> </td>    \n",
       "</tr>\n",
       "<tr>\n",
       "  <th>Covariance Type:</th>      <td>nonrobust</td>    <th>                     </th>     <td> </td>    \n",
       "</tr>\n",
       "</table>\n",
       "<table class=\"simpletable\">\n",
       "<tr>\n",
       "             <td></td>               <th>coef</th>     <th>std err</th>      <th>t</th>      <th>P>|t|</th>  <th>[0.025</th>    <th>0.975]</th>  \n",
       "</tr>\n",
       "<tr>\n",
       "  <th>Intercept</th>              <td> -505.5063</td> <td>   29.280</td> <td>  -17.264</td> <td> 0.000</td> <td> -563.073</td> <td> -447.939</td>\n",
       "</tr>\n",
       "<tr>\n",
       "  <th>Student[T.Yes]</th>         <td>  414.7916</td> <td>   17.165</td> <td>   24.165</td> <td> 0.000</td> <td>  381.045</td> <td>  448.538</td>\n",
       "</tr>\n",
       "<tr>\n",
       "  <th>Gender[T.Female]</th>       <td>  -56.9505</td> <td>   24.573</td> <td>   -2.318</td> <td> 0.021</td> <td> -105.262</td> <td>   -8.639</td>\n",
       "</tr>\n",
       "<tr>\n",
       "  <th>Income</th>                 <td>   -8.6253</td> <td>    0.514</td> <td>  -16.766</td> <td> 0.000</td> <td>   -9.637</td> <td>   -7.614</td>\n",
       "</tr>\n",
       "<tr>\n",
       "  <th>I(Income ** 2)</th>         <td>    0.0058</td> <td>    0.003</td> <td>    1.932</td> <td> 0.054</td> <td>   -0.000</td> <td>    0.012</td>\n",
       "</tr>\n",
       "<tr>\n",
       "  <th>Rating</th>                 <td>    3.9674</td> <td>    0.055</td> <td>   72.561</td> <td> 0.000</td> <td>    3.860</td> <td>    4.075</td>\n",
       "</tr>\n",
       "<tr>\n",
       "  <th>Age</th>                    <td>   -0.6826</td> <td>    0.303</td> <td>   -2.250</td> <td> 0.025</td> <td>   -1.279</td> <td>   -0.086</td>\n",
       "</tr>\n",
       "<tr>\n",
       "  <th>Cards</th>                  <td>   -3.2603</td> <td>    5.083</td> <td>   -0.641</td> <td> 0.522</td> <td>  -13.254</td> <td>    6.734</td>\n",
       "</tr>\n",
       "<tr>\n",
       "  <th>Gender[T.Female]:Cards</th> <td>   15.7543</td> <td>    7.584</td> <td>    2.077</td> <td> 0.038</td> <td>    0.843</td> <td>   30.666</td>\n",
       "</tr>\n",
       "</table>\n",
       "<table class=\"simpletable\">\n",
       "<tr>\n",
       "  <th>Omnibus:</th>       <td>13.489</td> <th>  Durbin-Watson:     </th> <td>   1.972</td>\n",
       "</tr>\n",
       "<tr>\n",
       "  <th>Prob(Omnibus):</th> <td> 0.001</td> <th>  Jarque-Bera (JB):  </th> <td>  14.150</td>\n",
       "</tr>\n",
       "<tr>\n",
       "  <th>Skew:</th>          <td> 0.444</td> <th>  Prob(JB):          </th> <td>0.000846</td>\n",
       "</tr>\n",
       "<tr>\n",
       "  <th>Kurtosis:</th>      <td> 2.755</td> <th>  Cond. No.          </th> <td>4.30e+04</td>\n",
       "</tr>\n",
       "</table><br/><br/>Warnings:<br/>[1] Standard Errors assume that the covariance matrix of the errors is correctly specified.<br/>[2] The condition number is large, 4.3e+04. This might indicate that there are<br/>strong multicollinearity or other numerical problems."
      ],
      "text/plain": [
       "<class 'statsmodels.iolib.summary.Summary'>\n",
       "\"\"\"\n",
       "                            OLS Regression Results                            \n",
       "==============================================================================\n",
       "Dep. Variable:                Balance   R-squared:                       0.952\n",
       "Model:                            OLS   Adj. R-squared:                  0.951\n",
       "Method:                 Least Squares   F-statistic:                     961.4\n",
       "Date:                Tue, 10 Mar 2020   Prob (F-statistic):          7.75e-252\n",
       "Time:                        00:54:48   Log-Likelihood:                -2413.6\n",
       "No. Observations:                 400   AIC:                             4845.\n",
       "Df Residuals:                     391   BIC:                             4881.\n",
       "Df Model:                           8                                         \n",
       "Covariance Type:            nonrobust                                         \n",
       "==========================================================================================\n",
       "                             coef    std err          t      P>|t|      [0.025      0.975]\n",
       "------------------------------------------------------------------------------------------\n",
       "Intercept               -505.5063     29.280    -17.264      0.000    -563.073    -447.939\n",
       "Student[T.Yes]           414.7916     17.165     24.165      0.000     381.045     448.538\n",
       "Gender[T.Female]         -56.9505     24.573     -2.318      0.021    -105.262      -8.639\n",
       "Income                    -8.6253      0.514    -16.766      0.000      -9.637      -7.614\n",
       "I(Income ** 2)             0.0058      0.003      1.932      0.054      -0.000       0.012\n",
       "Rating                     3.9674      0.055     72.561      0.000       3.860       4.075\n",
       "Age                       -0.6826      0.303     -2.250      0.025      -1.279      -0.086\n",
       "Cards                     -3.2603      5.083     -0.641      0.522     -13.254       6.734\n",
       "Gender[T.Female]:Cards    15.7543      7.584      2.077      0.038       0.843      30.666\n",
       "==============================================================================\n",
       "Omnibus:                       13.489   Durbin-Watson:                   1.972\n",
       "Prob(Omnibus):                  0.001   Jarque-Bera (JB):               14.150\n",
       "Skew:                           0.444   Prob(JB):                     0.000846\n",
       "Kurtosis:                       2.755   Cond. No.                     4.30e+04\n",
       "==============================================================================\n",
       "\n",
       "Warnings:\n",
       "[1] Standard Errors assume that the covariance matrix of the errors is correctly specified.\n",
       "[2] The condition number is large, 4.3e+04. This might indicate that there are\n",
       "strong multicollinearity or other numerical problems.\n",
       "\"\"\""
      ]
     },
     "execution_count": 28,
     "metadata": {},
     "output_type": "execute_result"
    }
   ],
   "source": [
    "mod6 = smf.ols('Balance ~ Income + I(Income**2) + Rating + Age + Student + Gender*Cards', data = credit_df).fit()\n",
    "mod6.summary()"
   ]
  },
  {
   "cell_type": "code",
   "execution_count": 29,
   "metadata": {
    "_cell_guid": "4c37844b-d759-4ec8-85c9-b2a2327b5fa0",
    "_uuid": "a914efa60d4f320a3687e01328ecf6fe77f5e2ec"
   },
   "outputs": [
    {
     "data": {
      "image/png": "[encoded data removed]",
      "text/plain": [
       "<Figure size 432.625x360 with 1 Axes>"
      ]
     },
     "metadata": {},
     "output_type": "display_data"
    }
   ],
   "source": [
    "sns.lmplot(x=\"Cards\", \n",
    "           y=\"Balance\", \n",
    "           hue=\"Gender\", \n",
    "           ci=None,\n",
    "           data = credit_df);"
   ]
  },
  {
   "cell_type": "markdown",
   "metadata": {
    "_cell_guid": "5a7e0ac8-9980-41cd-8738-c130ad03c79c",
    "_uuid": "67234650c204b8078083007b59d4710b6770ca88"
   },
   "source": [
    "The interaction between Gender and Cards is significant with a high coefficient, which demonstrates that Females who own more Cards have on average higher Balance. In this dataset we make the assumption that the Balance is recorded per person and not per credit card, implying that the balance recorded is calculated as an average across all the cards belonging to the same individual. While owning more credit Cards suggests in itself higher financing needs (perhaps the multiple cards offer different benefits), the relation with Gender is worth noting. We should also mention the fact that Gender in isolation has a negative impact on Balance, suggesting that females, in general, have less credit card debt, except when that individual also owns multiple Cards. "
   ]
  },
  {
   "cell_type": "markdown",
   "metadata": {
    "_cell_guid": "05a75ac2-038c-45be-bf5f-96218430ee43",
    "_uuid": "92cba304ac8ba7f215e431500ab1b6544033f6dc"
   },
   "source": [
    "> # Finding the Best Model"
   ]
  },
  {
   "cell_type": "markdown",
   "metadata": {
    "_cell_guid": "23fb3aa5-a102-41d1-ac4a-fba924f7a3af",
    "_uuid": "258cee2e2ec5868155ea43d4a6537117933022d4"
   },
   "source": [
    "After investigating polynomial relationships and interaction among terms, the last part of the analysis will focus on finding the best model and using it to predict credit card Balance for a generated sample of individuals. The purpose of this exercise is to employ the model and make inferences on the target variable, given a set of predictors. In other words, if an individual applies for a credit card, this model will predict an average credit card balance given the demographic factors (i.e. Income, Age, Rating). The information can be further utilized to estimate the risk of credit default or other customer behavior indicators of the given card owner. \n",
    "\n",
    "For this part of the analysis, we will focus separately on the active and non-active samples of the population. \n",
    "\n",
    "The best performing model so far on the entire sample included a polynomial relationship between Income and Balance and an interaction term between Income and Rating. "
   ]
  },
  {
   "cell_type": "code",
   "execution_count": 30,
   "metadata": {
    "_cell_guid": "7c0d696b-5e44-4a0d-a71c-93d40737c086",
    "_uuid": "58162264f9daa0aab0d0ed603502ba815e53e62d"
   },
   "outputs": [
    {
     "data": {
      "text/html": [
       "<table class=\"simpletable\">\n",
       "<caption>OLS Regression Results</caption>\n",
       "<tr>\n",
       "  <th>Dep. Variable:</th>         <td>Balance</td>     <th>  R-squared:         </th> <td>   0.984</td> \n",
       "</tr>\n",
       "<tr>\n",
       "  <th>Model:</th>                   <td>OLS</td>       <th>  Adj. R-squared:    </th> <td>   0.984</td> \n",
       "</tr>\n",
       "<tr>\n",
       "  <th>Method:</th>             <td>Least Squares</td>  <th>  F-statistic:       </th> <td>   3170.</td> \n",
       "</tr>\n",
       "<tr>\n",
       "  <th>Date:</th>             <td>Tue, 10 Mar 2020</td> <th>  Prob (F-statistic):</th> <td>4.43e-270</td>\n",
       "</tr>\n",
       "<tr>\n",
       "  <th>Time:</th>                 <td>00:54:48</td>     <th>  Log-Likelihood:    </th> <td> -1663.2</td> \n",
       "</tr>\n",
       "<tr>\n",
       "  <th>No. Observations:</th>      <td>   310</td>      <th>  AIC:               </th> <td>   3340.</td> \n",
       "</tr>\n",
       "<tr>\n",
       "  <th>Df Residuals:</th>          <td>   303</td>      <th>  BIC:               </th> <td>   3367.</td> \n",
       "</tr>\n",
       "<tr>\n",
       "  <th>Df Model:</th>              <td>     6</td>      <th>                     </th>     <td> </td>    \n",
       "</tr>\n",
       "<tr>\n",
       "  <th>Covariance Type:</th>      <td>nonrobust</td>    <th>                     </th>     <td> </td>    \n",
       "</tr>\n",
       "</table>\n",
       "<table class=\"simpletable\">\n",
       "<tr>\n",
       "         <td></td>           <th>coef</th>     <th>std err</th>      <th>t</th>      <th>P>|t|</th>  <th>[0.025</th>    <th>0.975]</th>  \n",
       "</tr>\n",
       "<tr>\n",
       "  <th>Intercept</th>      <td> -780.4994</td> <td>   20.847</td> <td>  -37.439</td> <td> 0.000</td> <td> -821.523</td> <td> -739.475</td>\n",
       "</tr>\n",
       "<tr>\n",
       "  <th>Student[T.Yes]</th> <td>  482.1976</td> <td>    9.149</td> <td>   52.705</td> <td> 0.000</td> <td>  464.194</td> <td>  500.201</td>\n",
       "</tr>\n",
       "<tr>\n",
       "  <th>Income</th>         <td>   -9.4049</td> <td>    0.290</td> <td>  -32.466</td> <td> 0.000</td> <td>   -9.975</td> <td>   -8.835</td>\n",
       "</tr>\n",
       "<tr>\n",
       "  <th>I(Income ** 2)</th> <td>   -0.0045</td> <td>    0.003</td> <td>   -1.333</td> <td> 0.184</td> <td>   -0.011</td> <td>    0.002</td>\n",
       "</tr>\n",
       "<tr>\n",
       "  <th>Rating</th>         <td>    4.7559</td> <td>    0.066</td> <td>   72.197</td> <td> 0.000</td> <td>    4.626</td> <td>    4.886</td>\n",
       "</tr>\n",
       "<tr>\n",
       "  <th>Age</th>            <td>   -1.1266</td> <td>    0.177</td> <td>   -6.374</td> <td> 0.000</td> <td>   -1.474</td> <td>   -0.779</td>\n",
       "</tr>\n",
       "<tr>\n",
       "  <th>Income:Rating</th>  <td>    0.0006</td> <td>    0.001</td> <td>    0.658</td> <td> 0.511</td> <td>   -0.001</td> <td>    0.002</td>\n",
       "</tr>\n",
       "</table>\n",
       "<table class=\"simpletable\">\n",
       "<tr>\n",
       "  <th>Omnibus:</th>       <td> 2.411</td> <th>  Durbin-Watson:     </th> <td>   1.956</td>\n",
       "</tr>\n",
       "<tr>\n",
       "  <th>Prob(Omnibus):</th> <td> 0.300</td> <th>  Jarque-Bera (JB):  </th> <td>   2.335</td>\n",
       "</tr>\n",
       "<tr>\n",
       "  <th>Skew:</th>          <td>-0.152</td> <th>  Prob(JB):          </th> <td>   0.311</td>\n",
       "</tr>\n",
       "<tr>\n",
       "  <th>Kurtosis:</th>      <td> 2.703</td> <th>  Cond. No.          </th> <td>2.72e+05</td>\n",
       "</tr>\n",
       "</table><br/><br/>Warnings:<br/>[1] Standard Errors assume that the covariance matrix of the errors is correctly specified.<br/>[2] The condition number is large, 2.72e+05. This might indicate that there are<br/>strong multicollinearity or other numerical problems."
      ],
      "text/plain": [
       "<class 'statsmodels.iolib.summary.Summary'>\n",
       "\"\"\"\n",
       "                            OLS Regression Results                            \n",
       "==============================================================================\n",
       "Dep. Variable:                Balance   R-squared:                       0.984\n",
       "Model:                            OLS   Adj. R-squared:                  0.984\n",
       "Method:                 Least Squares   F-statistic:                     3170.\n",
       "Date:                Tue, 10 Mar 2020   Prob (F-statistic):          4.43e-270\n",
       "Time:                        00:54:48   Log-Likelihood:                -1663.2\n",
       "No. Observations:                 310   AIC:                             3340.\n",
       "Df Residuals:                     303   BIC:                             3367.\n",
       "Df Model:                           6                                         \n",
       "Covariance Type:            nonrobust                                         \n",
       "==================================================================================\n",
       "                     coef    std err          t      P>|t|      [0.025      0.975]\n",
       "----------------------------------------------------------------------------------\n",
       "Intercept       -780.4994     20.847    -37.439      0.000    -821.523    -739.475\n",
       "Student[T.Yes]   482.1976      9.149     52.705      0.000     464.194     500.201\n",
       "Income            -9.4049      0.290    -32.466      0.000      -9.975      -8.835\n",
       "I(Income ** 2)    -0.0045      0.003     -1.333      0.184      -0.011       0.002\n",
       "Rating             4.7559      0.066     72.197      0.000       4.626       4.886\n",
       "Age               -1.1266      0.177     -6.374      0.000      -1.474      -0.779\n",
       "Income:Rating      0.0006      0.001      0.658      0.511      -0.001       0.002\n",
       "==============================================================================\n",
       "Omnibus:                        2.411   Durbin-Watson:                   1.956\n",
       "Prob(Omnibus):                  0.300   Jarque-Bera (JB):                2.335\n",
       "Skew:                          -0.152   Prob(JB):                        0.311\n",
       "Kurtosis:                       2.703   Cond. No.                     2.72e+05\n",
       "==============================================================================\n",
       "\n",
       "Warnings:\n",
       "[1] Standard Errors assume that the covariance matrix of the errors is correctly specified.\n",
       "[2] The condition number is large, 2.72e+05. This might indicate that there are\n",
       "strong multicollinearity or other numerical problems.\n",
       "\"\"\""
      ]
     },
     "execution_count": 30,
     "metadata": {},
     "output_type": "execute_result"
    }
   ],
   "source": [
    "active_mod7 = smf.ols('Balance ~ Income + I(Income**2) + Rating + Age + Student + Income*Rating', \n",
    "                      data = active_credit_df).fit()\n",
    "active_mod7.summary()"
   ]
  },
  {
   "cell_type": "markdown",
   "metadata": {
    "_cell_guid": "64af2935-05d4-46bb-bfb3-57e7f9afb3e2",
    "_uuid": "f22905d13eef61f086460dc7c823a8dcd48fc905"
   },
   "source": [
    "In the case of the active user population, neither non-linear relationships nor interaction among variables displayed low p-values. Nevertheless, other variables might explain the variance in Balance, such as Limit or Cards."
   ]
  },
  {
   "cell_type": "code",
   "execution_count": 31,
   "metadata": {
    "_cell_guid": "fc0ced42-9e6c-ea14-c35f-fae96e92c8d4",
    "_uuid": "993f852ec83287759e425c459a4c50481443ef0e"
   },
   "outputs": [
    {
     "data": {
      "text/html": [
       "<table class=\"simpletable\">\n",
       "<caption>OLS Regression Results</caption>\n",
       "<tr>\n",
       "  <th>Dep. Variable:</th>         <td>Balance</td>     <th>  R-squared:         </th> <td>   0.999</td> \n",
       "</tr>\n",
       "<tr>\n",
       "  <th>Model:</th>                   <td>OLS</td>       <th>  Adj. R-squared:    </th> <td>   0.999</td> \n",
       "</tr>\n",
       "<tr>\n",
       "  <th>Method:</th>             <td>Least Squares</td>  <th>  F-statistic:       </th> <td>8.031e+04</td>\n",
       "</tr>\n",
       "<tr>\n",
       "  <th>Date:</th>             <td>Tue, 10 Mar 2020</td> <th>  Prob (F-statistic):</th>  <td>  0.00</td>  \n",
       "</tr>\n",
       "<tr>\n",
       "  <th>Time:</th>                 <td>00:54:48</td>     <th>  Log-Likelihood:    </th> <td> -1164.6</td> \n",
       "</tr>\n",
       "<tr>\n",
       "  <th>No. Observations:</th>      <td>   310</td>      <th>  AIC:               </th> <td>   2343.</td> \n",
       "</tr>\n",
       "<tr>\n",
       "  <th>Df Residuals:</th>          <td>   303</td>      <th>  BIC:               </th> <td>   2369.</td> \n",
       "</tr>\n",
       "<tr>\n",
       "  <th>Df Model:</th>              <td>     6</td>      <th>                     </th>     <td> </td>    \n",
       "</tr>\n",
       "<tr>\n",
       "  <th>Covariance Type:</th>      <td>nonrobust</td>    <th>                     </th>     <td> </td>    \n",
       "</tr>\n",
       "</table>\n",
       "<table class=\"simpletable\">\n",
       "<tr>\n",
       "         <td></td>           <th>coef</th>     <th>std err</th>      <th>t</th>      <th>P>|t|</th>  <th>[0.025</th>    <th>0.975]</th>  \n",
       "</tr>\n",
       "<tr>\n",
       "  <th>Intercept</th>      <td> -698.5009</td> <td>    3.294</td> <td> -212.053</td> <td> 0.000</td> <td> -704.983</td> <td> -692.019</td>\n",
       "</tr>\n",
       "<tr>\n",
       "  <th>Student[T.Yes]</th> <td>  501.0420</td> <td>    1.843</td> <td>  271.823</td> <td> 0.000</td> <td>  497.415</td> <td>  504.669</td>\n",
       "</tr>\n",
       "<tr>\n",
       "  <th>Limit</th>          <td>    0.3365</td> <td>    0.004</td> <td>   85.333</td> <td> 0.000</td> <td>    0.329</td> <td>    0.344</td>\n",
       "</tr>\n",
       "<tr>\n",
       "  <th>Rating</th>         <td>   -0.1501</td> <td>    0.058</td> <td>   -2.574</td> <td> 0.011</td> <td>   -0.265</td> <td>   -0.035</td>\n",
       "</tr>\n",
       "<tr>\n",
       "  <th>Income</th>         <td>   -9.9930</td> <td>    0.029</td> <td> -340.893</td> <td> 0.000</td> <td>  -10.051</td> <td>   -9.935</td>\n",
       "</tr>\n",
       "<tr>\n",
       "  <th>Age</th>            <td>   -1.0000</td> <td>    0.035</td> <td>  -28.260</td> <td> 0.000</td> <td>   -1.070</td> <td>   -0.930</td>\n",
       "</tr>\n",
       "<tr>\n",
       "  <th>Cards</th>          <td>   25.5015</td> <td>    0.497</td> <td>   51.278</td> <td> 0.000</td> <td>   24.523</td> <td>   26.480</td>\n",
       "</tr>\n",
       "</table>\n",
       "<table class=\"simpletable\">\n",
       "<tr>\n",
       "  <th>Omnibus:</th>       <td> 3.568</td> <th>  Durbin-Watson:     </th> <td>   2.067</td>\n",
       "</tr>\n",
       "<tr>\n",
       "  <th>Prob(Omnibus):</th> <td> 0.168</td> <th>  Jarque-Bera (JB):  </th> <td>   3.625</td>\n",
       "</tr>\n",
       "<tr>\n",
       "  <th>Skew:</th>          <td>-0.258</td> <th>  Prob(JB):          </th> <td>   0.163</td>\n",
       "</tr>\n",
       "<tr>\n",
       "  <th>Kurtosis:</th>      <td> 2.882</td> <th>  Cond. No.          </th> <td>3.27e+04</td>\n",
       "</tr>\n",
       "</table><br/><br/>Warnings:<br/>[1] Standard Errors assume that the covariance matrix of the errors is correctly specified.<br/>[2] The condition number is large, 3.27e+04. This might indicate that there are<br/>strong multicollinearity or other numerical problems."
      ],
      "text/plain": [
       "<class 'statsmodels.iolib.summary.Summary'>\n",
       "\"\"\"\n",
       "                            OLS Regression Results                            \n",
       "==============================================================================\n",
       "Dep. Variable:                Balance   R-squared:                       0.999\n",
       "Model:                            OLS   Adj. R-squared:                  0.999\n",
       "Method:                 Least Squares   F-statistic:                 8.031e+04\n",
       "Date:                Tue, 10 Mar 2020   Prob (F-statistic):               0.00\n",
       "Time:                        00:54:48   Log-Likelihood:                -1164.6\n",
       "No. Observations:                 310   AIC:                             2343.\n",
       "Df Residuals:                     303   BIC:                             2369.\n",
       "Df Model:                           6                                         \n",
       "Covariance Type:            nonrobust                                         \n",
       "==================================================================================\n",
       "                     coef    std err          t      P>|t|      [0.025      0.975]\n",
       "----------------------------------------------------------------------------------\n",
       "Intercept       -698.5009      3.294   -212.053      0.000    -704.983    -692.019\n",
       "Student[T.Yes]   501.0420      1.843    271.823      0.000     497.415     504.669\n",
       "Limit              0.3365      0.004     85.333      0.000       0.329       0.344\n",
       "Rating            -0.1501      0.058     -2.574      0.011      -0.265      -0.035\n",
       "Income            -9.9930      0.029   -340.893      0.000     -10.051      -9.935\n",
       "Age               -1.0000      0.035    -28.260      0.000      -1.070      -0.930\n",
       "Cards             25.5015      0.497     51.278      0.000      24.523      26.480\n",
       "==============================================================================\n",
       "Omnibus:                        3.568   Durbin-Watson:                   2.067\n",
       "Prob(Omnibus):                  0.168   Jarque-Bera (JB):                3.625\n",
       "Skew:                          -0.258   Prob(JB):                        0.163\n",
       "Kurtosis:                       2.882   Cond. No.                     3.27e+04\n",
       "==============================================================================\n",
       "\n",
       "Warnings:\n",
       "[1] Standard Errors assume that the covariance matrix of the errors is correctly specified.\n",
       "[2] The condition number is large, 3.27e+04. This might indicate that there are\n",
       "strong multicollinearity or other numerical problems.\n",
       "\"\"\""
      ]
     },
     "execution_count": 31,
     "metadata": {},
     "output_type": "execute_result"
    }
   ],
   "source": [
    "active_mod8 = smf.ols('Balance ~ Limit + Rating + Income + Age + Student + Cards', data = active_credit_df).fit()\n",
    "active_mod8.summary()"
   ]
  },
  {
   "cell_type": "markdown",
   "metadata": {
    "_cell_guid": "6b46db20-2648-f30c-e6bb-88036d72d8a9",
    "_uuid": "a01d97db8697fc4857cf542bf27730e956c2d5cb"
   },
   "source": [
    "This is the best model so far, with an R-squared of 99%. Adding the Limit term seems to have had a strong impact. This is a relationship which can be further analyzed. \n"
   ]
  },
  {
   "cell_type": "code",
   "execution_count": 32,
   "metadata": {
    "_cell_guid": "7d8c4b7f-6d8c-4ec4-a4fe-5963386d5600",
    "_uuid": "fb89213851c0f26e6490d5cc6d8cc4d70cb57b8d"
   },
   "outputs": [
    {
     "data": {
      "text/plain": [
       "<matplotlib.axes._subplots.AxesSubplot at 0x7fdbf46daa58>"
      ]
     },
     "execution_count": 32,
     "metadata": {},
     "output_type": "execute_result"
    },
    {
     "data": {
      "image/png": "[encoded data removed]",
      "text/plain": [
       "<Figure size 432x288 with 1 Axes>"
      ]
     },
     "metadata": {},
     "output_type": "display_data"
    }
   ],
   "source": [
    "sns.regplot(x='Limit',\n",
    "          y='Balance',\n",
    "          data=active_credit_df,\n",
    "          line_kws={'color':'black'},\n",
    "          lowess=True)"
   ]
  },
  {
   "cell_type": "markdown",
   "metadata": {
    "_cell_guid": "35658e57-ffca-431e-9d88-0de77d05549b",
    "_uuid": "59b663218529bcd4c9032552983c7bdae5003ba6"
   },
   "source": [
    "Credit Limit appears to be a strong predictor for credit card Balance. This is an expected finding since we assume that a card owner is not allowed to have a Balance that exceeds their Limit. Consequently, this relationship simply articulates that, the higher the credit Limit, the greater the credit card expenses are for a given individual, and hence the insightfulness of this relationship is debatable. "
   ]
  },
  {
   "cell_type": "code",
   "execution_count": 33,
   "metadata": {
    "_cell_guid": "978bf9cd-4eeb-464e-9def-a87ba8363706",
    "_uuid": "f45b47a8d56faa40d3d325fc0d2193fdd627b0a5"
   },
   "outputs": [
    {
     "data": {
      "text/html": [
       "<table class=\"simpletable\">\n",
       "<caption>OLS Regression Results</caption>\n",
       "<tr>\n",
       "  <th>Dep. Variable:</th>         <td>Balance</td>     <th>  R-squared:         </th> <td>   0.746</td> \n",
       "</tr>\n",
       "<tr>\n",
       "  <th>Model:</th>                   <td>OLS</td>       <th>  Adj. R-squared:    </th> <td>   0.745</td> \n",
       "</tr>\n",
       "<tr>\n",
       "  <th>Method:</th>             <td>Least Squares</td>  <th>  F-statistic:       </th> <td>   1168.</td> \n",
       "</tr>\n",
       "<tr>\n",
       "  <th>Date:</th>             <td>Tue, 10 Mar 2020</td> <th>  Prob (F-statistic):</th> <td>1.90e-120</td>\n",
       "</tr>\n",
       "<tr>\n",
       "  <th>Time:</th>                 <td>00:54:49</td>     <th>  Log-Likelihood:    </th> <td> -2745.4</td> \n",
       "</tr>\n",
       "<tr>\n",
       "  <th>No. Observations:</th>      <td>   400</td>      <th>  AIC:               </th> <td>   5495.</td> \n",
       "</tr>\n",
       "<tr>\n",
       "  <th>Df Residuals:</th>          <td>   398</td>      <th>  BIC:               </th> <td>   5503.</td> \n",
       "</tr>\n",
       "<tr>\n",
       "  <th>Df Model:</th>              <td>     1</td>      <th>                     </th>     <td> </td>    \n",
       "</tr>\n",
       "<tr>\n",
       "  <th>Covariance Type:</th>      <td>nonrobust</td>    <th>                     </th>     <td> </td>    \n",
       "</tr>\n",
       "</table>\n",
       "<table class=\"simpletable\">\n",
       "<tr>\n",
       "      <td></td>         <th>coef</th>     <th>std err</th>      <th>t</th>      <th>P>|t|</th>  <th>[0.025</th>    <th>0.975]</th>  \n",
       "</tr>\n",
       "<tr>\n",
       "  <th>Intercept</th> <td> -390.8463</td> <td>   29.069</td> <td>  -13.446</td> <td> 0.000</td> <td> -447.993</td> <td> -333.699</td>\n",
       "</tr>\n",
       "<tr>\n",
       "  <th>Rating</th>    <td>    2.5662</td> <td>    0.075</td> <td>   34.176</td> <td> 0.000</td> <td>    2.419</td> <td>    2.714</td>\n",
       "</tr>\n",
       "</table>\n",
       "<table class=\"simpletable\">\n",
       "<tr>\n",
       "  <th>Omnibus:</th>       <td>23.223</td> <th>  Durbin-Watson:     </th> <td>   1.966</td>\n",
       "</tr>\n",
       "<tr>\n",
       "  <th>Prob(Omnibus):</th> <td> 0.000</td> <th>  Jarque-Bera (JB):  </th> <td>  38.802</td>\n",
       "</tr>\n",
       "<tr>\n",
       "  <th>Skew:</th>          <td> 0.390</td> <th>  Prob(JB):          </th> <td>3.75e-09</td>\n",
       "</tr>\n",
       "<tr>\n",
       "  <th>Kurtosis:</th>      <td> 4.311</td> <th>  Cond. No.          </th> <td>    970.</td>\n",
       "</tr>\n",
       "</table><br/><br/>Warnings:<br/>[1] Standard Errors assume that the covariance matrix of the errors is correctly specified."
      ],
      "text/plain": [
       "<class 'statsmodels.iolib.summary.Summary'>\n",
       "\"\"\"\n",
       "                            OLS Regression Results                            \n",
       "==============================================================================\n",
       "Dep. Variable:                Balance   R-squared:                       0.746\n",
       "Model:                            OLS   Adj. R-squared:                  0.745\n",
       "Method:                 Least Squares   F-statistic:                     1168.\n",
       "Date:                Tue, 10 Mar 2020   Prob (F-statistic):          1.90e-120\n",
       "Time:                        00:54:49   Log-Likelihood:                -2745.4\n",
       "No. Observations:                 400   AIC:                             5495.\n",
       "Df Residuals:                     398   BIC:                             5503.\n",
       "Df Model:                           1                                         \n",
       "Covariance Type:            nonrobust                                         \n",
       "==============================================================================\n",
       "                 coef    std err          t      P>|t|      [0.025      0.975]\n",
       "------------------------------------------------------------------------------\n",
       "Intercept   -390.8463     29.069    -13.446      0.000    -447.993    -333.699\n",
       "Rating         2.5662      0.075     34.176      0.000       2.419       2.714\n",
       "==============================================================================\n",
       "Omnibus:                       23.223   Durbin-Watson:                   1.966\n",
       "Prob(Omnibus):                  0.000   Jarque-Bera (JB):               38.802\n",
       "Skew:                           0.390   Prob(JB):                     3.75e-09\n",
       "Kurtosis:                       4.311   Cond. No.                         970.\n",
       "==============================================================================\n",
       "\n",
       "Warnings:\n",
       "[1] Standard Errors assume that the covariance matrix of the errors is correctly specified.\n",
       "\"\"\""
      ]
     },
     "execution_count": 33,
     "metadata": {},
     "output_type": "execute_result"
    }
   ],
   "source": [
    "mod9 = smf.ols('Balance ~ Rating', data = credit_df).fit()\n",
    "mod9.summary()"
   ]
  },
  {
   "cell_type": "markdown",
   "metadata": {
    "_cell_guid": "9c05ba2a-97cd-4c93-96ce-0c86cf2a509f",
    "_uuid": "78bc36d316c2ae899c3369d1a6630726bc14baac"
   },
   "source": [
    "Similarly, credit Rating is a highly accurate predictor of Balance. This could suggest that individuals with high Rating are more willing to incur credit debt as they are confident that they will be able to pay off the balance. Nevertheless, Rating is a complex variable, related to other predictors such as Income. "
   ]
  },
  {
   "cell_type": "markdown",
   "metadata": {
    "_cell_guid": "9cfe6458-450b-4e8f-8ec9-4ecf17dabba3",
    "_uuid": "2c7cca0934f1a97ded81c6bc724575eed76f7d0a"
   },
   "source": [
    "For the entire dataset, the best model predicted 96% of the variance, while the model fit on the active-only population predicted 99%. The difference suggests that there are other factors influencing non-active cardholders which are not present in our data, or their spending behaviour is reflected on other lending platforms."
   ]
  },
  {
   "cell_type": "markdown",
   "metadata": {
    "_cell_guid": "da667c09-cee2-4eed-a16c-86869778856b",
    "_uuid": "3901c31ea9bea0901083bec345b7c172de6ad783"
   },
   "source": [
    "> ## Logistic Regression \n",
    "\n",
    "In order to determine the factors that influence whether a card owner is an active credit card user, a logistic regression can be fit. "
   ]
  },
  {
   "cell_type": "code",
   "execution_count": 34,
   "metadata": {
    "_cell_guid": "70e9ce96-bb8a-3614-1411-72ca41f8c786",
    "_uuid": "5d7865a821b274601ceac87932f0f064ae27d8f8"
   },
   "outputs": [
    {
     "data": {
      "text/html": [
       "<table class=\"simpletable\">\n",
       "<caption>Generalized Linear Model Regression Results</caption>\n",
       "<tr>\n",
       "  <th>Dep. Variable:</th>  <td>['Active[No]', 'Active[Yes]']</td> <th>  No. Observations:  </th>  <td>   400</td>  \n",
       "</tr>\n",
       "<tr>\n",
       "  <th>Model:</th>                       <td>GLM</td>              <th>  Df Residuals:      </th>  <td>   393</td>  \n",
       "</tr>\n",
       "<tr>\n",
       "  <th>Model Family:</th>             <td>Binomial</td>            <th>  Df Model:          </th>  <td>     6</td>  \n",
       "</tr>\n",
       "<tr>\n",
       "  <th>Link Function:</th>              <td>logit</td>             <th>  Scale:             </th> <td>  1.0000</td> \n",
       "</tr>\n",
       "<tr>\n",
       "  <th>Method:</th>                     <td>IRLS</td>              <th>  Log-Likelihood:    </th> <td> -53.379</td> \n",
       "</tr>\n",
       "<tr>\n",
       "  <th>Date:</th>                 <td>Tue, 10 Mar 2020</td>        <th>  Deviance:          </th> <td>  106.76</td> \n",
       "</tr>\n",
       "<tr>\n",
       "  <th>Time:</th>                     <td>00:54:49</td>            <th>  Pearson chi2:      </th>  <td>  464.</td>  \n",
       "</tr>\n",
       "<tr>\n",
       "  <th>No. Iterations:</th>               <td>9</td>               <th>  Covariance Type:   </th> <td>nonrobust</td>\n",
       "</tr>\n",
       "</table>\n",
       "<table class=\"simpletable\">\n",
       "<tr>\n",
       "      <td></td>         <th>coef</th>     <th>std err</th>      <th>z</th>      <th>P>|z|</th>  <th>[0.025</th>    <th>0.975]</th>  \n",
       "</tr>\n",
       "<tr>\n",
       "  <th>Intercept</th> <td>    8.3924</td> <td>    2.040</td> <td>    4.114</td> <td> 0.000</td> <td>    4.394</td> <td>   12.390</td>\n",
       "</tr>\n",
       "<tr>\n",
       "  <th>Limit</th>     <td>   -0.0024</td> <td>    0.002</td> <td>   -1.368</td> <td> 0.171</td> <td>   -0.006</td> <td>    0.001</td>\n",
       "</tr>\n",
       "<tr>\n",
       "  <th>Rating</th>    <td>   -0.0210</td> <td>    0.026</td> <td>   -0.792</td> <td> 0.429</td> <td>   -0.073</td> <td>    0.031</td>\n",
       "</tr>\n",
       "<tr>\n",
       "  <th>Income</th>    <td>    0.1114</td> <td>    0.021</td> <td>    5.291</td> <td> 0.000</td> <td>    0.070</td> <td>    0.153</td>\n",
       "</tr>\n",
       "<tr>\n",
       "  <th>Age</th>       <td>   -0.0021</td> <td>    0.015</td> <td>   -0.143</td> <td> 0.886</td> <td>   -0.031</td> <td>    0.027</td>\n",
       "</tr>\n",
       "<tr>\n",
       "  <th>Cards</th>     <td>   -0.1709</td> <td>    0.256</td> <td>   -0.668</td> <td> 0.504</td> <td>   -0.673</td> <td>    0.331</td>\n",
       "</tr>\n",
       "<tr>\n",
       "  <th>Education</th> <td>    0.0444</td> <td>    0.088</td> <td>    0.503</td> <td> 0.615</td> <td>   -0.128</td> <td>    0.217</td>\n",
       "</tr>\n",
       "</table>"
      ],
      "text/plain": [
       "<class 'statsmodels.iolib.summary.Summary'>\n",
       "\"\"\"\n",
       "                       Generalized Linear Model Regression Results                       \n",
       "=========================================================================================\n",
       "Dep. Variable:     ['Active[No]', 'Active[Yes]']   No. Observations:                  400\n",
       "Model:                                       GLM   Df Residuals:                      393\n",
       "Model Family:                           Binomial   Df Model:                            6\n",
       "Link Function:                             logit   Scale:                          1.0000\n",
       "Method:                                     IRLS   Log-Likelihood:                -53.379\n",
       "Date:                           Tue, 10 Mar 2020   Deviance:                       106.76\n",
       "Time:                                   00:54:49   Pearson chi2:                     464.\n",
       "No. Iterations:                                9   Covariance Type:             nonrobust\n",
       "==============================================================================\n",
       "                 coef    std err          z      P>|z|      [0.025      0.975]\n",
       "------------------------------------------------------------------------------\n",
       "Intercept      8.3924      2.040      4.114      0.000       4.394      12.390\n",
       "Limit         -0.0024      0.002     -1.368      0.171      -0.006       0.001\n",
       "Rating        -0.0210      0.026     -0.792      0.429      -0.073       0.031\n",
       "Income         0.1114      0.021      5.291      0.000       0.070       0.153\n",
       "Age           -0.0021      0.015     -0.143      0.886      -0.031       0.027\n",
       "Cards         -0.1709      0.256     -0.668      0.504      -0.673       0.331\n",
       "Education      0.0444      0.088      0.503      0.615      -0.128       0.217\n",
       "==============================================================================\n",
       "\"\"\""
      ]
     },
     "execution_count": 34,
     "metadata": {},
     "output_type": "execute_result"
    }
   ],
   "source": [
    "log_mod = smf.glm('Active ~ Limit + Rating + Income + Age + Cards + Education', \n",
    "                   data = credit_df,\n",
    "                   family=sm.families.Binomial()).fit()\n",
    "log_mod.summary()"
   ]
  },
  {
   "cell_type": "markdown",
   "metadata": {
    "_cell_guid": "2fc11fe8-4307-47ac-8ad3-ee492420c030",
    "_uuid": "367e1545bd3f5311c81b87cdea1cf494a5c4f7f9"
   },
   "source": [
    "The results unveil that Income is the only statistically significant predictor of whether the card owner is active or not, high earners having a greater probability of being active. This could be explained by low earners maintaining a zero-balance card in order to boost their creditworthiness. \n",
    "\n",
    "Naturally, a more in-depth investigation could follow and more complex models can be fit. However, the Active variable could be influenced by factors outside of our predictors. As previously stated, non-active users could be individuals who make use of other credit cards, yet we do not have access to such data. "
   ]
  },
  {
   "cell_type": "markdown",
   "metadata": {
    "_cell_guid": "cf98e470-32c6-4d03-a81b-4fdaf60e48ce",
    "_uuid": "0468a4875427b266b4e6550050c24a9d9d4cac1f"
   },
   "source": [
    "> ## Making Predictions"
   ]
  },
  {
   "cell_type": "markdown",
   "metadata": {
    "_cell_guid": "4bba75ac-aa73-084c-faba-df19ea27ec41",
    "_uuid": "3bd2a8404322e0cd2e386b7eed0894a21d29cbf4",
    "collapsed": true
   },
   "source": [
    "Lastly, the model can be utilized in order to predict the credit card Balance of future customers given their demographic information. For this purpose, a dataset has been generated."
   ]
  },
  {
   "cell_type": "code",
   "execution_count": 35,
   "metadata": {
    "_cell_guid": "87f67829-0af9-d19f-4abc-ef7e55087105",
    "_uuid": "41774c35a24fe25b8a1a3647fbb1f400eafccce4"
   },
   "outputs": [
    {
     "name": "stderr",
     "output_type": "stream",
     "text": [
      "/opt/conda/lib/python3.6/site-packages/ipykernel_launcher.py:7: SettingWithCopyWarning: \n",
      "A value is trying to be set on a copy of a slice from a DataFrame\n",
      "\n",
      "See the caveats in the documentation: http://pandas.pydata.org/pandas-docs/stable/indexing.html#indexing-view-versus-copy\n",
      "  import sys\n",
      "/opt/conda/lib/python3.6/site-packages/ipykernel_launcher.py:8: SettingWithCopyWarning: \n",
      "A value is trying to be set on a copy of a slice from a DataFrame\n",
      "\n",
      "See the caveats in the documentation: http://pandas.pydata.org/pandas-docs/stable/indexing.html#indexing-view-versus-copy\n",
      "  \n",
      "/opt/conda/lib/python3.6/site-packages/ipykernel_launcher.py:9: SettingWithCopyWarning: \n",
      "A value is trying to be set on a copy of a slice from a DataFrame\n",
      "\n",
      "See the caveats in the documentation: http://pandas.pydata.org/pandas-docs/stable/indexing.html#indexing-view-versus-copy\n",
      "  if __name__ == '__main__':\n",
      "/opt/conda/lib/python3.6/site-packages/ipykernel_launcher.py:10: SettingWithCopyWarning: \n",
      "A value is trying to be set on a copy of a slice from a DataFrame\n",
      "\n",
      "See the caveats in the documentation: http://pandas.pydata.org/pandas-docs/stable/indexing.html#indexing-view-versus-copy\n",
      "  # Remove the CWD from sys.path while we load stuff.\n"
     ]
    },
    {
     "data": {
      "text/html": [
       "<div>\n",
       "<style scoped>\n",
       "    .dataframe tbody tr th:only-of-type {\n",
       "        vertical-align: middle;\n",
       "    }\n",
       "\n",
       "    .dataframe tbody tr th {\n",
       "        vertical-align: top;\n",
       "    }\n",
       "\n",
       "    .dataframe thead th {\n",
       "        text-align: right;\n",
       "    }\n",
       "</style>\n",
       "<table border=\"1\" class=\"dataframe\">\n",
       "  <thead>\n",
       "    <tr style=\"text-align: right;\">\n",
       "      <th></th>\n",
       "      <th>Income</th>\n",
       "      <th>Rating</th>\n",
       "      <th>Limit</th>\n",
       "      <th>Age</th>\n",
       "      <th>Cards</th>\n",
       "      <th>Balance</th>\n",
       "    </tr>\n",
       "  </thead>\n",
       "  <tbody>\n",
       "    <tr>\n",
       "      <th>count</th>\n",
       "      <td>40.000000</td>\n",
       "      <td>40.000000</td>\n",
       "      <td>40.000000</td>\n",
       "      <td>40.000000</td>\n",
       "      <td>40.000000</td>\n",
       "      <td>40.000000</td>\n",
       "    </tr>\n",
       "    <tr>\n",
       "      <th>mean</th>\n",
       "      <td>48.256693</td>\n",
       "      <td>356.816887</td>\n",
       "      <td>4733.189513</td>\n",
       "      <td>60.055650</td>\n",
       "      <td>4.800000</td>\n",
       "      <td>671.315165</td>\n",
       "    </tr>\n",
       "    <tr>\n",
       "      <th>std</th>\n",
       "      <td>21.688174</td>\n",
       "      <td>55.566397</td>\n",
       "      <td>208.010223</td>\n",
       "      <td>15.492547</td>\n",
       "      <td>2.554032</td>\n",
       "      <td>370.204418</td>\n",
       "    </tr>\n",
       "    <tr>\n",
       "      <th>min</th>\n",
       "      <td>9.545238</td>\n",
       "      <td>207.857749</td>\n",
       "      <td>4327.835916</td>\n",
       "      <td>23.171944</td>\n",
       "      <td>1.000000</td>\n",
       "      <td>-3.879689</td>\n",
       "    </tr>\n",
       "    <tr>\n",
       "      <th>25%</th>\n",
       "      <td>33.251110</td>\n",
       "      <td>321.302205</td>\n",
       "      <td>4621.173780</td>\n",
       "      <td>49.733798</td>\n",
       "      <td>3.000000</td>\n",
       "      <td>405.193635</td>\n",
       "    </tr>\n",
       "    <tr>\n",
       "      <th>50%</th>\n",
       "      <td>45.135437</td>\n",
       "      <td>360.437522</td>\n",
       "      <td>4711.947383</td>\n",
       "      <td>58.253035</td>\n",
       "      <td>4.500000</td>\n",
       "      <td>702.601195</td>\n",
       "    </tr>\n",
       "    <tr>\n",
       "      <th>75%</th>\n",
       "      <td>64.401898</td>\n",
       "      <td>400.585359</td>\n",
       "      <td>4864.575067</td>\n",
       "      <td>70.819913</td>\n",
       "      <td>7.000000</td>\n",
       "      <td>937.606766</td>\n",
       "    </tr>\n",
       "    <tr>\n",
       "      <th>max</th>\n",
       "      <td>97.711310</td>\n",
       "      <td>479.541301</td>\n",
       "      <td>5199.346106</td>\n",
       "      <td>92.189672</td>\n",
       "      <td>9.000000</td>\n",
       "      <td>1308.933453</td>\n",
       "    </tr>\n",
       "  </tbody>\n",
       "</table>\n",
       "</div>"
      ],
      "text/plain": [
       "          Income      Rating     ...           Cards      Balance\n",
       "count  40.000000   40.000000     ...       40.000000    40.000000\n",
       "mean   48.256693  356.816887     ...        4.800000   671.315165\n",
       "std    21.688174   55.566397     ...        2.554032   370.204418\n",
       "min     9.545238  207.857749     ...        1.000000    -3.879689\n",
       "25%    33.251110  321.302205     ...        3.000000   405.193635\n",
       "50%    45.135437  360.437522     ...        4.500000   702.601195\n",
       "75%    64.401898  400.585359     ...        7.000000   937.606766\n",
       "max    97.711310  479.541301     ...        9.000000  1308.933453\n",
       "\n",
       "[8 rows x 6 columns]"
      ]
     },
     "execution_count": 35,
     "metadata": {},
     "output_type": "execute_result"
    }
   ],
   "source": [
    "df_new=pd.DataFrame({'Income':np.random.normal(45, 20, 40),\n",
    "                    'Rating':np.random.normal(355, 55, 40),\n",
    "                    'Limit':np.random.normal(4735, 200, 40),\n",
    "                    'Age':np.random.normal(56, 17, 40),\n",
    "                    'Cards':list(range(0,10))*4,\n",
    "                    'Student':['Yes']*20+['No']*20})\n",
    "df_new.Cards[df_new.Cards == 0] = 3\n",
    "df_new.Income[df_new.Income <= 0] = df_new.Income.mean()\n",
    "df_new.Rating[df_new.Rating <= 0] = df_new.Rating.mean()\n",
    "df_new.Limit[df_new.Limit <= 0] = df_new.Limit.mean()\n",
    "df_new['Balance']= active_mod8.predict(df_new)\n",
    "df_new.describe()"
   ]
  },
  {
   "cell_type": "code",
   "execution_count": 36,
   "metadata": {
    "_cell_guid": "620cf302-6def-4c81-ad0b-c44a0ebb2641",
    "_uuid": "b4d283f31f0206c32f7b8695f03c23a15e584ecb"
   },
   "outputs": [
    {
     "data": {
      "text/html": [
       "<table class=\"simpletable\">\n",
       "<caption>OLS Regression Results</caption>\n",
       "<tr>\n",
       "  <th>Dep. Variable:</th>         <td>Balance</td>     <th>  R-squared:         </th> <td>   0.962</td> \n",
       "</tr>\n",
       "<tr>\n",
       "  <th>Model:</th>                   <td>OLS</td>       <th>  Adj. R-squared:    </th> <td>   0.961</td> \n",
       "</tr>\n",
       "<tr>\n",
       "  <th>Method:</th>             <td>Least Squares</td>  <th>  F-statistic:       </th> <td>   1221.</td> \n",
       "</tr>\n",
       "<tr>\n",
       "  <th>Date:</th>             <td>Tue, 10 Mar 2020</td> <th>  Prob (F-statistic):</th> <td>3.04e-271</td>\n",
       "</tr>\n",
       "<tr>\n",
       "  <th>Time:</th>                 <td>00:54:49</td>     <th>  Log-Likelihood:    </th> <td> -2367.9</td> \n",
       "</tr>\n",
       "<tr>\n",
       "  <th>No. Observations:</th>      <td>   400</td>      <th>  AIC:               </th> <td>   4754.</td> \n",
       "</tr>\n",
       "<tr>\n",
       "  <th>Df Residuals:</th>          <td>   391</td>      <th>  BIC:               </th> <td>   4790.</td> \n",
       "</tr>\n",
       "<tr>\n",
       "  <th>Df Model:</th>              <td>     8</td>      <th>                     </th>     <td> </td>    \n",
       "</tr>\n",
       "<tr>\n",
       "  <th>Covariance Type:</th>      <td>nonrobust</td>    <th>                     </th>     <td> </td>    \n",
       "</tr>\n",
       "</table>\n",
       "<table class=\"simpletable\">\n",
       "<tr>\n",
       "         <td></td>           <th>coef</th>     <th>std err</th>      <th>t</th>      <th>P>|t|</th>  <th>[0.025</th>    <th>0.975]</th>  \n",
       "</tr>\n",
       "<tr>\n",
       "  <th>Intercept</th>      <td> -368.0046</td> <td>   28.204</td> <td>  -13.048</td> <td> 0.000</td> <td> -423.455</td> <td> -312.554</td>\n",
       "</tr>\n",
       "<tr>\n",
       "  <th>Student[T.Yes]</th> <td>  433.8736</td> <td>   15.294</td> <td>   28.368</td> <td> 0.000</td> <td>  403.804</td> <td>  463.943</td>\n",
       "</tr>\n",
       "<tr>\n",
       "  <th>Income</th>         <td>   -9.3145</td> <td>    0.464</td> <td>  -20.074</td> <td> 0.000</td> <td>  -10.227</td> <td>   -8.402</td>\n",
       "</tr>\n",
       "<tr>\n",
       "  <th>I(Income ** 2)</th> <td>   -0.0313</td> <td>    0.006</td> <td>   -5.633</td> <td> 0.000</td> <td>   -0.042</td> <td>   -0.020</td>\n",
       "</tr>\n",
       "<tr>\n",
       "  <th>Age</th>            <td>   -0.6784</td> <td>    0.270</td> <td>   -2.514</td> <td> 0.012</td> <td>   -1.209</td> <td>   -0.148</td>\n",
       "</tr>\n",
       "<tr>\n",
       "  <th>Rating</th>         <td>    0.5141</td> <td>    0.454</td> <td>    1.133</td> <td> 0.258</td> <td>   -0.378</td> <td>    1.406</td>\n",
       "</tr>\n",
       "<tr>\n",
       "  <th>Income:Rating</th>  <td>    0.0109</td> <td>    0.001</td> <td>    7.903</td> <td> 0.000</td> <td>    0.008</td> <td>    0.014</td>\n",
       "</tr>\n",
       "<tr>\n",
       "  <th>Limit</th>          <td>    0.1998</td> <td>    0.030</td> <td>    6.650</td> <td> 0.000</td> <td>    0.141</td> <td>    0.259</td>\n",
       "</tr>\n",
       "<tr>\n",
       "  <th>Cards</th>          <td>   18.5345</td> <td>    3.991</td> <td>    4.644</td> <td> 0.000</td> <td>   10.688</td> <td>   26.381</td>\n",
       "</tr>\n",
       "</table>\n",
       "<table class=\"simpletable\">\n",
       "<tr>\n",
       "  <th>Omnibus:</th>       <td>11.908</td> <th>  Durbin-Watson:     </th> <td>   1.961</td>\n",
       "</tr>\n",
       "<tr>\n",
       "  <th>Prob(Omnibus):</th> <td> 0.003</td> <th>  Jarque-Bera (JB):  </th> <td>  12.521</td>\n",
       "</tr>\n",
       "<tr>\n",
       "  <th>Skew:</th>          <td> 0.432</td> <th>  Prob(JB):          </th> <td> 0.00191</td>\n",
       "</tr>\n",
       "<tr>\n",
       "  <th>Kurtosis:</th>      <td> 2.932</td> <th>  Cond. No.          </th> <td>2.14e+05</td>\n",
       "</tr>\n",
       "</table><br/><br/>Warnings:<br/>[1] Standard Errors assume that the covariance matrix of the errors is correctly specified.<br/>[2] The condition number is large, 2.14e+05. This might indicate that there are<br/>strong multicollinearity or other numerical problems."
      ],
      "text/plain": [
       "<class 'statsmodels.iolib.summary.Summary'>\n",
       "\"\"\"\n",
       "                            OLS Regression Results                            \n",
       "==============================================================================\n",
       "Dep. Variable:                Balance   R-squared:                       0.962\n",
       "Model:                            OLS   Adj. R-squared:                  0.961\n",
       "Method:                 Least Squares   F-statistic:                     1221.\n",
       "Date:                Tue, 10 Mar 2020   Prob (F-statistic):          3.04e-271\n",
       "Time:                        00:54:49   Log-Likelihood:                -2367.9\n",
       "No. Observations:                 400   AIC:                             4754.\n",
       "Df Residuals:                     391   BIC:                             4790.\n",
       "Df Model:                           8                                         \n",
       "Covariance Type:            nonrobust                                         \n",
       "==================================================================================\n",
       "                     coef    std err          t      P>|t|      [0.025      0.975]\n",
       "----------------------------------------------------------------------------------\n",
       "Intercept       -368.0046     28.204    -13.048      0.000    -423.455    -312.554\n",
       "Student[T.Yes]   433.8736     15.294     28.368      0.000     403.804     463.943\n",
       "Income            -9.3145      0.464    -20.074      0.000     -10.227      -8.402\n",
       "I(Income ** 2)    -0.0313      0.006     -5.633      0.000      -0.042      -0.020\n",
       "Age               -0.6784      0.270     -2.514      0.012      -1.209      -0.148\n",
       "Rating             0.5141      0.454      1.133      0.258      -0.378       1.406\n",
       "Income:Rating      0.0109      0.001      7.903      0.000       0.008       0.014\n",
       "Limit              0.1998      0.030      6.650      0.000       0.141       0.259\n",
       "Cards             18.5345      3.991      4.644      0.000      10.688      26.381\n",
       "==============================================================================\n",
       "Omnibus:                       11.908   Durbin-Watson:                   1.961\n",
       "Prob(Omnibus):                  0.003   Jarque-Bera (JB):               12.521\n",
       "Skew:                           0.432   Prob(JB):                      0.00191\n",
       "Kurtosis:                       2.932   Cond. No.                     2.14e+05\n",
       "==============================================================================\n",
       "\n",
       "Warnings:\n",
       "[1] Standard Errors assume that the covariance matrix of the errors is correctly specified.\n",
       "[2] The condition number is large, 2.14e+05. This might indicate that there are\n",
       "strong multicollinearity or other numerical problems.\n",
       "\"\"\""
      ]
     },
     "execution_count": 36,
     "metadata": {},
     "output_type": "execute_result"
    }
   ],
   "source": [
    "mod8 = smf.ols('Balance ~ Income + I(Income**2) + Age + Student + Income*Rating + Limit + Cards', data = credit_df).fit()\n",
    "mod8.summary()"
   ]
  }
 ],
 "metadata": {
  "_change_revision": 0,
  "_is_fork": false,
  "kernelspec": {
   "display_name": "Python 3",
   "language": "python",
   "name": "python3"
  },
  "language_info": {
   "codemirror_mode": {
    "name": "ipython",
    "version": 3
   },
   "file_extension": ".py",
   "mimetype": "text/x-python",
   "name": "python",
   "nbconvert_exporter": "python",
   "pygments_lexer": "ipython3",
   "version": "3.6.6"
  }
 },
 "nbformat": 4,
 "nbformat_minor": 4
}
